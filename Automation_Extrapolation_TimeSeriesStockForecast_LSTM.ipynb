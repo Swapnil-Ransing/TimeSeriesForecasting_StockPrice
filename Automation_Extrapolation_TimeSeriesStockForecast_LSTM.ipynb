{
  "cells": [
    {
      "cell_type": "markdown",
      "metadata": {
        "id": "C3eeDUerVmCK"
      },
      "source": [
        "In this notebook, stock price prediction based on LSTM and timeseries data is demonstrated.\n",
        "\n",
        "Based on the model predictions, data is also extrapolated considering the previously predicted values."
      ]
    },
    {
      "cell_type": "markdown",
      "metadata": {
        "id": "IgOvTTnb2tZF"
      },
      "source": [
        "Referred articles :\n",
        "https://medium.com/@matthew1992/forecasting-stock-with-different-models-arima-lstm-fourier-ef096885cf75\n",
        "https://medium.com/@redeaddiscolll/stock-market-time-series-lstm-failure-56089ce3c0b8\n",
        "https://machinelearningmastery.com/how-to-use-the-timeseriesgenerator-for-time-series-forecasting-in-keras/"
      ]
    },
    {
      "cell_type": "code",
      "execution_count": null,
      "metadata": {
        "colab": {
          "base_uri": "https://localhost:8080/"
        },
        "id": "RLPLyhcCt8Ou",
        "outputId": "5786f9a7-92ad-4fac-97ef-2ad1d7f7de8d"
      },
      "outputs": [
        {
          "output_type": "stream",
          "name": "stdout",
          "text": [
            "Collecting pandas_ta\n",
            "  Downloading pandas_ta-0.3.14b.tar.gz (115 kB)\n",
            "\u001b[2K     \u001b[90m━━━━━━━━━━━━━━━━━━━━━━━━━━━━━━━━━━━━━━━━\u001b[0m \u001b[32m115.1/115.1 kB\u001b[0m \u001b[31m2.4 MB/s\u001b[0m eta \u001b[36m0:00:00\u001b[0m\n",
            "\u001b[?25h  Preparing metadata (setup.py) ... \u001b[?25l\u001b[?25hdone\n",
            "Requirement already satisfied: pandas in /usr/local/lib/python3.10/dist-packages (from pandas_ta) (1.5.3)\n",
            "Requirement already satisfied: python-dateutil>=2.8.1 in /usr/local/lib/python3.10/dist-packages (from pandas->pandas_ta) (2.8.2)\n",
            "Requirement already satisfied: pytz>=2020.1 in /usr/local/lib/python3.10/dist-packages (from pandas->pandas_ta) (2023.3.post1)\n",
            "Requirement already satisfied: numpy>=1.21.0 in /usr/local/lib/python3.10/dist-packages (from pandas->pandas_ta) (1.23.5)\n",
            "Requirement already satisfied: six>=1.5 in /usr/local/lib/python3.10/dist-packages (from python-dateutil>=2.8.1->pandas->pandas_ta) (1.16.0)\n",
            "Building wheels for collected packages: pandas_ta\n",
            "  Building wheel for pandas_ta (setup.py) ... \u001b[?25l\u001b[?25hdone\n",
            "  Created wheel for pandas_ta: filename=pandas_ta-0.3.14b0-py3-none-any.whl size=218907 sha256=53595ab54030db222f98310704199b1dd6c6aa35520f1341608d060f4c039cbd\n",
            "  Stored in directory: /root/.cache/pip/wheels/69/00/ac/f7fa862c34b0e2ef320175100c233377b4c558944f12474cf0\n",
            "Successfully built pandas_ta\n",
            "Installing collected packages: pandas_ta\n",
            "Successfully installed pandas_ta-0.3.14b0\n"
          ]
        }
      ],
      "source": [
        "import pandas as pd\n",
        "import matplotlib.pyplot as plt\n",
        "from matplotlib.pylab import rcParams\n",
        "import numpy as np\n",
        "from sklearn.preprocessing import MinMaxScaler\n",
        "from tensorflow.keras.models import Sequential\n",
        "from tensorflow.keras.layers import Dense\n",
        "from tensorflow.keras.layers import LSTM\n",
        "from keras.initializers import HeNormal\n",
        "from keras.layers import Dropout\n",
        "from keras.layers import Flatten\n",
        "from keras.preprocessing.sequence import TimeseriesGenerator\n",
        "import math\n",
        "from sklearn.metrics import mean_squared_error\n",
        "from pandas_datareader import data as pdr\n",
        "import yfinance as yf\n",
        "yf.pdr_override()\n",
        "!pip install pandas_ta\n",
        "import pandas_ta as ta\n",
        "import datetime\n",
        "import seaborn as sns\n",
        "from numpy.random import seed\n",
        "seed(0)\n",
        "from tqdm import tqdm\n",
        "import time\n",
        "import pickle\n",
        "\n",
        "import warnings\n",
        "warnings.filterwarnings(\"ignore\")"
      ]
    },
    {
      "cell_type": "code",
      "execution_count": null,
      "metadata": {
        "colab": {
          "base_uri": "https://localhost:8080/"
        },
        "id": "e3NgKEsbXL2d",
        "outputId": "d4f0f798-aa20-4505-e2c3-4a436fe904ed"
      },
      "outputs": [
        {
          "output_type": "stream",
          "name": "stdout",
          "text": [
            "Mounted at /content/drive\n"
          ]
        }
      ],
      "source": [
        "# Mounting google drive\n",
        "from google.colab import drive\n",
        "drive.mount('/content/drive', force_remount=True)"
      ]
    },
    {
      "cell_type": "code",
      "source": [
        "## Featurizing with technical indicators\n",
        "def get_technical_indicators(dataset): #function to generate feature technical indicators\n",
        "\n",
        "\n",
        "    dataset['ma7'] = dataset['Close'].rolling(window = 7).mean()\n",
        "    dataset['ma21'] = dataset['Close'].rolling(window = 21).mean()\n",
        "    dataset['ma50'] = dataset['Close'].rolling(window = 50).mean()\n",
        "\n",
        "    dataset['26ema'] = dataset['Close'].ewm(span=26).mean()\n",
        "    dataset['50ema'] = dataset['Close'].ewm(span=50).mean()\n",
        "    dataset['12ema'] = dataset['Close'].ewm(span=12).mean()\n",
        "    dataset['MACD'] = (dataset['12ema']-dataset['26ema'])\n",
        "\n",
        "    dataset['20sd'] = dataset['Close'].rolling(window = 20).std()\n",
        "    dataset['upper_band'] = (dataset['Close'].rolling(window = 20).mean()) + (dataset['20sd']*2)\n",
        "    dataset['lower_band'] = (dataset['Close'].rolling(window = 20).mean()) - (dataset['20sd']*2)\n",
        "\n",
        "\n",
        "    dataset['ema'] = dataset['Close'].ewm(com=0.5).mean()\n",
        "\n",
        "    dataset['momentum'] = (dataset['Close']/100)-1\n",
        "\n",
        "    return dataset"
      ],
      "metadata": {
        "id": "zxsp_zsaGg3j"
      },
      "execution_count": null,
      "outputs": []
    },
    {
      "cell_type": "code",
      "execution_count": null,
      "metadata": {
        "id": "jbuR4CPT31LS"
      },
      "outputs": [],
      "source": [
        "def extrapolation_automation(stock_list):\n",
        "  for ticker in stock_list:\n",
        "    # get stock data\n",
        "    start=f\"{datetime.datetime.now() - datetime.timedelta(days=950):%Y-%m-%d}\" # we are going to train lstm on last 2 yr 2 months of data\n",
        "    df = pdr.get_data_yahoo(str(ticker+\".NS\"), start=start)\n",
        "    df.drop(['Open','High','Low','Adj Close','Volume'],axis=1,inplace=True) # as only close value will be considered for prediction\n",
        "    df=df.dropna()\n",
        "    df[df.isna().any(axis=1)]\n",
        "\n",
        "    # Lets build Technical features\n",
        "    ignore_first_points=51 # as we are considering the 50 moving averages\n",
        "    df_TI=df.copy()\n",
        "    df_TI=get_technical_indicators(df_TI)\n",
        "    # Also as first 51 rows has Nan values lets ignore these rows\n",
        "    df_TI=df_TI.iloc[ignore_first_points:]\n",
        "    print('Nan values in the dataframe are',len(df_TI[df_TI.isna().any(axis=1)]))\n",
        "    print('Start date of dataframe is ',df_TI.index[0])\n",
        "    print('End date of dataframe is ',df_TI.index[-1])\n",
        "    print('Featurization is complete.')\n",
        "    print('-'*50)\n",
        "\n",
        "    # Train test split and time series data preperation\n",
        "    # Define the parameters of number of features and look back period for time series generator\n",
        "    look_back = 30\n",
        "    n_features=12\n",
        "    test_pred_days=3\n",
        "    # Lets validate the predictions on the last two months of data\n",
        "    test_prediction_start_date=f\"{datetime.datetime.now() - datetime.timedelta(days=test_pred_days):%Y-%m-%d}\"\n",
        "    # train / test split\n",
        "    train_data = df_TI.query('Date <  @test_prediction_start_date').reset_index(drop = False)\n",
        "    test_data_actual  = df_TI.query('Date >= @test_prediction_start_date').reset_index(drop = False)\n",
        "\n",
        "    # Lets add additinal samples = look_back from train_data at test top\n",
        "    test_add=train_data[-look_back:]\n",
        "    test_data = pd.concat([test_add,test_data_actual.loc[:]]).reset_index(drop=True)\n",
        "\n",
        "    X_train = train_data.drop(['Date','Close'],axis=1)\n",
        "    y_train = train_data['Close']\n",
        "    X_test = test_data.drop(['Date','Close'],axis=1)\n",
        "    y_test = test_data['Close']\n",
        "    # Lets reshape the outputs to match with time series generator requirement\n",
        "    y_train=y_train.values.reshape((len(y_train),1))\n",
        "    y_test=y_test.values.reshape((len(y_test),1))\n",
        "\n",
        "    # Min max scaling of X train and test data\n",
        "    scaler=MinMaxScaler()\n",
        "    X_train=scaler.fit_transform(X_train)\n",
        "    X_test=scaler.transform(X_test)\n",
        "    print('Shape of X_train is ',X_train.shape)\n",
        "    print('Shape of y_train is ',y_train.shape)\n",
        "    print('Shape of X_test is ',X_test.shape)\n",
        "    print('Shape of y_test is ',y_test.shape)\n",
        "    print('Min max scaling of data is complete')\n",
        "\n",
        "    # Time series generator\n",
        "    train_generator = TimeseriesGenerator(X_train, y_train,\n",
        "                                          length        = look_back,\n",
        "                                          sampling_rate = 1,\n",
        "                                          stride        = 1,\n",
        "                                          batch_size    = 1)\n",
        "    test_generator = TimeseriesGenerator(X_test, y_test,\n",
        "                                          length        = look_back,\n",
        "                                          sampling_rate = 1,\n",
        "                                          stride        = 1,\n",
        "                                          batch_size    = 1)\n",
        "\n",
        "    print('Data processing, train test split and time series data generation is completed.')\n",
        "    print('-'*50)\n",
        "\n",
        "    print('Starting with model training')\n",
        "    # Lets build a model for prediction\n",
        "\n",
        "    initializer = HeNormal()\n",
        "\n",
        "    model = Sequential()\n",
        "    model.add(LSTM(units=50, return_sequences=True, input_shape=(look_back, n_features)))\n",
        "    model.add(Dropout(0.2))\n",
        "    model.add(LSTM(units=50, return_sequences=True))\n",
        "    model.add(Dropout(0.2))\n",
        "    model.add(Flatten())\n",
        "    model.add(Dense(units = 20, kernel_initializer=initializer, activation='relu'))\n",
        "    model.add(Dense(units = 1, kernel_initializer=initializer, activation='relu'))\n",
        "    model.compile(optimizer = 'adam', loss = 'mean_squared_error', metrics = ['mean_absolute_error'])\n",
        "    model.fit(train_generator, epochs = 120, batch_size = 16,verbose=1)\n",
        "\n",
        "    # Lets dump the model\n",
        "    pickle_path = '/content/drive/MyDrive/Stock Predictions/DataFiles/'\n",
        "\n",
        "    pickle_out=open(pickle_path+'LSTM_NAVINFLUOR_Model.pickle', 'wb')\n",
        "    pickle.dump(model,pickle_out)\n",
        "    pickle_out.close()\n",
        "\n",
        "    print('Model training is completed')\n",
        "    print('-'*50)\n",
        "\n",
        "    # Predictions and extrapolations\n",
        "    print('Lets predict and extrapolate')\n",
        "    test_predictions  = model.predict(test_generator)\n",
        "    train_samples=400\n",
        "    y_test_extpr=[]\n",
        "    # Lets extrapolate for the 30 days\n",
        "    Extpr_days=30\n",
        "    for i in tqdm(range(Extpr_days), desc = 'tqdm() Progress Bar'):\n",
        "      lst=train_data['Close'][-train_samples:].tolist()\n",
        "      # append the predicted value from second step\n",
        "      if i>0:\n",
        "        lst.extend(y_test_extpr)\n",
        "      # Creating a dataframe from dictionary of lists\n",
        "      dict = {'Close': lst}\n",
        "      df_extpr = pd.DataFrame(dict)\n",
        "      df_extpr=get_technical_indicators(df_extpr)\n",
        "      # Last observations with lookback period\n",
        "      df_extpr=df_extpr.iloc[train_samples-look_back+i:]\n",
        "      df_extpr.reset_index(inplace=True)\n",
        "      df_extpr.drop(columns=['index'],inplace=True)\n",
        "      X_test_extpr = df_extpr.drop(['Close'],axis=1)\n",
        "      X_test_extpr=scaler.transform(X_test_extpr)\n",
        "      X_test_extpr=X_test_extpr.reshape((1,look_back, n_features))\n",
        "      predicted_value = model.predict(X_test_extpr)[0]\n",
        "      y_test_extpr.append(predicted_value[0])\n",
        "\n",
        "    print('Computed extrapolations')\n",
        "\n",
        "    test_dates=test_data['Date'][-test_pred_days-1:].tolist()\n",
        "    extrapolated_dates=[d.strftime('%Y-%m-%d') for d in pd.date_range(f\"{datetime.datetime.now()+ datetime.timedelta(days=1) :%Y-%m-%d}\",\n",
        "                  f\"{datetime.datetime.now() + datetime.timedelta(days=(Extpr_days-test_pred_days-1)):%Y-%m-%d}\")]\n",
        "    test_dates.extend(extrapolated_dates)\n",
        "\n",
        "    extpr_df=pd.DataFrame({'Date':test_dates})\n",
        "    print('Created dates metrics')\n",
        "\n",
        "    pickle_out=open(pickle_path+'extpr_df.pickle', 'wb')\n",
        "    pickle.dump(extpr_df,pickle_out)\n",
        "    pickle_out.close()\n",
        "\n",
        "    pickle_out=open(pickle_path+'y_test_extpr.pickle', 'wb')\n",
        "    pickle.dump(y_test_extpr,pickle_out)\n",
        "    pickle_out.close()\n",
        "\n",
        "    extpr_df['Extrapolation']=y_test_extpr\n",
        "    print('Computed extrapolation dataframe')\n",
        "\n",
        "    # Plotting and saving the generated plot\n",
        "    plt.figure(figsize=(12,4))\n",
        "    plt.plot(test_data.Date[look_back:], test_data['Close'][look_back:], c='orange',label='true values')\n",
        "    plt.plot(test_data.Date[look_back:],test_predictions.reshape(-1).tolist(), lw=4, c='r',linestyle = '-', label='predictions')\n",
        "    plt.plot(extpr_df.Date,extpr_df['Extrapolation'], lw=2, c='b',linestyle = '-', label='extrapolations')\n",
        "    # plt.legend(loc=\"lower left\")\n",
        "    plt.legend()\n",
        "    plt.xlabel(\"date\", fontsize=10)\n",
        "    plt.ylabel(\"Close price (Rs) (rescaled)\", fontsize=10)\n",
        "    plt.title(\"Closing value\", fontsize=12)\n",
        "    images_dir = '/content/drive/MyDrive/Stock Predictions/LSTMPredictions/'+ticker\n",
        "    plt.savefig(f\"{images_dir}.JPG\")\n",
        "    plt.show()"
      ]
    },
    {
      "cell_type": "code",
      "source": [
        "stock_list=['POLYCAB', 'TITAN', 'ICICIBANK', 'FINEORG', 'DIVISLAB', 'NAVINFLUOR', 'INDIAMART', 'CARBORUNIV']\n",
        "extrapolation_automation(stock_list)"
      ],
      "metadata": {
        "colab": {
          "base_uri": "https://localhost:8080/",
          "height": 1000
        },
        "id": "6SYWFd06SJpK",
        "outputId": "d9709d8c-9948-4649-cbc1-2cdf4ba32e0f"
      },
      "execution_count": null,
      "outputs": [
        {
          "output_type": "stream",
          "name": "stdout",
          "text": [
            "\r[*********************100%%**********************]  1 of 1 completed\n",
            "Nan values in the dataframe are 0\n",
            "Start date of dataframe is  2021-08-04 00:00:00\n",
            "End date of dataframe is  2023-12-29 00:00:00\n",
            "Featurization is complete.\n",
            "--------------------------------------------------\n",
            "Shape of X_train is  (593, 12)\n",
            "Shape of y_train is  (593, 1)\n",
            "Shape of X_test is  (33, 12)\n",
            "Shape of y_test is  (33, 1)\n",
            "Min max scaling of data is complete\n",
            "Data processing, train test split and time series data generation is completed.\n",
            "--------------------------------------------------\n",
            "Starting with model training\n",
            "Epoch 1/120\n",
            "563/563 [==============================] - 18s 25ms/step - loss: 4110947.2500 - mean_absolute_error: 1583.6759\n",
            "Epoch 2/120\n",
            "563/563 [==============================] - 14s 25ms/step - loss: 673558.3125 - mean_absolute_error: 565.4465\n",
            "Epoch 3/120\n",
            "563/563 [==============================] - 14s 25ms/step - loss: 103363.1797 - mean_absolute_error: 241.4943\n",
            "Epoch 4/120\n",
            "563/563 [==============================] - 14s 25ms/step - loss: 55012.5156 - mean_absolute_error: 179.5103\n",
            "Epoch 5/120\n",
            "563/563 [==============================] - 15s 27ms/step - loss: 45788.1328 - mean_absolute_error: 164.3253\n",
            "Epoch 6/120\n",
            "563/563 [==============================] - 13s 23ms/step - loss: 50749.9258 - mean_absolute_error: 170.8480\n",
            "Epoch 7/120\n",
            "563/563 [==============================] - 14s 25ms/step - loss: 42536.2852 - mean_absolute_error: 157.2874\n",
            "Epoch 8/120\n",
            "563/563 [==============================] - 14s 25ms/step - loss: 35979.3789 - mean_absolute_error: 145.5418\n",
            "Epoch 9/120\n",
            "563/563 [==============================] - 13s 24ms/step - loss: 40284.3164 - mean_absolute_error: 153.1801\n",
            "Epoch 10/120\n",
            "563/563 [==============================] - 14s 25ms/step - loss: 35401.7422 - mean_absolute_error: 141.2142\n",
            "Epoch 11/120\n",
            "563/563 [==============================] - 14s 26ms/step - loss: 33592.2969 - mean_absolute_error: 138.5678\n",
            "Epoch 12/120\n",
            "563/563 [==============================] - 14s 25ms/step - loss: 34148.6406 - mean_absolute_error: 136.8212\n",
            "Epoch 13/120\n",
            "563/563 [==============================] - 14s 24ms/step - loss: 38517.4102 - mean_absolute_error: 143.1918\n",
            "Epoch 14/120\n",
            "563/563 [==============================] - 14s 25ms/step - loss: 32358.3945 - mean_absolute_error: 135.8717\n",
            "Epoch 15/120\n",
            "563/563 [==============================] - 14s 25ms/step - loss: 37350.4258 - mean_absolute_error: 140.8764\n",
            "Epoch 16/120\n",
            "563/563 [==============================] - 13s 24ms/step - loss: 32988.6914 - mean_absolute_error: 135.4188\n",
            "Epoch 17/120\n",
            "563/563 [==============================] - 14s 24ms/step - loss: 27273.2051 - mean_absolute_error: 125.3523\n",
            "Epoch 18/120\n",
            "563/563 [==============================] - 14s 25ms/step - loss: 25791.4473 - mean_absolute_error: 122.8791\n",
            "Epoch 19/120\n",
            "563/563 [==============================] - 14s 26ms/step - loss: 28559.8555 - mean_absolute_error: 124.3537\n",
            "Epoch 20/120\n",
            "563/563 [==============================] - 14s 25ms/step - loss: 27908.4824 - mean_absolute_error: 128.4849\n",
            "Epoch 21/120\n",
            "563/563 [==============================] - 15s 26ms/step - loss: 22291.0195 - mean_absolute_error: 114.5249\n",
            "Epoch 22/120\n",
            "563/563 [==============================] - 14s 25ms/step - loss: 25561.2363 - mean_absolute_error: 120.3874\n",
            "Epoch 23/120\n",
            "563/563 [==============================] - 14s 24ms/step - loss: 25185.9434 - mean_absolute_error: 121.4918\n",
            "Epoch 24/120\n",
            "563/563 [==============================] - 14s 26ms/step - loss: 22043.6855 - mean_absolute_error: 112.4552\n",
            "Epoch 25/120\n",
            "563/563 [==============================] - 15s 26ms/step - loss: 24914.6875 - mean_absolute_error: 118.3289\n",
            "Epoch 26/120\n",
            "563/563 [==============================] - 15s 27ms/step - loss: 26112.8926 - mean_absolute_error: 119.8926\n",
            "Epoch 27/120\n",
            "563/563 [==============================] - 14s 26ms/step - loss: 23507.3594 - mean_absolute_error: 114.3163\n",
            "Epoch 28/120\n",
            "563/563 [==============================] - 14s 25ms/step - loss: 21548.0020 - mean_absolute_error: 108.3038\n",
            "Epoch 29/120\n",
            "563/563 [==============================] - 13s 24ms/step - loss: 22067.4258 - mean_absolute_error: 114.0052\n",
            "Epoch 30/120\n",
            "563/563 [==============================] - 14s 26ms/step - loss: 18921.9004 - mean_absolute_error: 106.3774\n",
            "Epoch 31/120\n",
            "563/563 [==============================] - 14s 25ms/step - loss: 18871.3125 - mean_absolute_error: 105.6060\n",
            "Epoch 32/120\n",
            "563/563 [==============================] - 14s 25ms/step - loss: 19012.9570 - mean_absolute_error: 103.0716\n",
            "Epoch 33/120\n",
            "563/563 [==============================] - 14s 24ms/step - loss: 19535.4102 - mean_absolute_error: 103.7561\n",
            "Epoch 34/120\n",
            "563/563 [==============================] - 14s 26ms/step - loss: 17150.7129 - mean_absolute_error: 100.0441\n",
            "Epoch 35/120\n",
            "563/563 [==============================] - 14s 25ms/step - loss: 16873.5430 - mean_absolute_error: 100.2130\n",
            "Epoch 36/120\n",
            "563/563 [==============================] - 17s 31ms/step - loss: 26745.3281 - mean_absolute_error: 119.7073\n",
            "Epoch 37/120\n",
            "563/563 [==============================] - 14s 25ms/step - loss: 21468.6152 - mean_absolute_error: 109.5779\n",
            "Epoch 38/120\n",
            "563/563 [==============================] - 14s 26ms/step - loss: 20280.5195 - mean_absolute_error: 105.4145\n",
            "Epoch 39/120\n",
            "563/563 [==============================] - 14s 25ms/step - loss: 17363.5820 - mean_absolute_error: 101.5956\n",
            "Epoch 40/120\n",
            "563/563 [==============================] - 14s 26ms/step - loss: 17198.6719 - mean_absolute_error: 99.0296\n",
            "Epoch 41/120\n",
            "563/563 [==============================] - 14s 26ms/step - loss: 17946.5605 - mean_absolute_error: 101.2668\n",
            "Epoch 42/120\n",
            "563/563 [==============================] - 14s 25ms/step - loss: 16706.9512 - mean_absolute_error: 96.4924\n",
            "Epoch 43/120\n",
            "563/563 [==============================] - 14s 25ms/step - loss: 16998.7500 - mean_absolute_error: 100.0848\n",
            "Epoch 44/120\n",
            "563/563 [==============================] - 14s 25ms/step - loss: 17524.0840 - mean_absolute_error: 99.4854\n",
            "Epoch 45/120\n",
            "563/563 [==============================] - 14s 26ms/step - loss: 19690.1172 - mean_absolute_error: 105.4810\n",
            "Epoch 46/120\n",
            "563/563 [==============================] - 14s 26ms/step - loss: 15013.1152 - mean_absolute_error: 93.0693\n",
            "Epoch 47/120\n",
            "563/563 [==============================] - 14s 24ms/step - loss: 18059.4961 - mean_absolute_error: 101.0023\n",
            "Epoch 48/120\n",
            "563/563 [==============================] - 14s 25ms/step - loss: 15594.0537 - mean_absolute_error: 93.2409\n",
            "Epoch 49/120\n",
            "563/563 [==============================] - 14s 25ms/step - loss: 17119.2891 - mean_absolute_error: 98.1399\n",
            "Epoch 50/120\n",
            "563/563 [==============================] - 14s 26ms/step - loss: 15480.2734 - mean_absolute_error: 93.7598\n",
            "Epoch 51/120\n",
            "563/563 [==============================] - 14s 25ms/step - loss: 13567.4609 - mean_absolute_error: 88.5743\n",
            "Epoch 52/120\n",
            "563/563 [==============================] - 15s 26ms/step - loss: 14168.8076 - mean_absolute_error: 91.9182\n",
            "Epoch 53/120\n",
            "563/563 [==============================] - 15s 26ms/step - loss: 15602.4619 - mean_absolute_error: 93.8509\n",
            "Epoch 54/120\n",
            "563/563 [==============================] - 14s 25ms/step - loss: 13042.6113 - mean_absolute_error: 88.9797\n",
            "Epoch 55/120\n",
            "563/563 [==============================] - 14s 25ms/step - loss: 14588.5713 - mean_absolute_error: 90.6629\n",
            "Epoch 56/120\n",
            "563/563 [==============================] - 13s 24ms/step - loss: 12594.7734 - mean_absolute_error: 83.9490\n",
            "Epoch 57/120\n",
            "563/563 [==============================] - 14s 25ms/step - loss: 15534.1436 - mean_absolute_error: 95.7400\n",
            "Epoch 58/120\n",
            "563/563 [==============================] - 14s 25ms/step - loss: 14140.3555 - mean_absolute_error: 90.5767\n",
            "Epoch 59/120\n",
            "563/563 [==============================] - 13s 24ms/step - loss: 12642.9551 - mean_absolute_error: 86.3926\n",
            "Epoch 60/120\n",
            "563/563 [==============================] - 14s 25ms/step - loss: 11665.4561 - mean_absolute_error: 84.8668\n",
            "Epoch 61/120\n",
            "563/563 [==============================] - 14s 25ms/step - loss: 13920.2490 - mean_absolute_error: 89.7451\n",
            "Epoch 62/120\n",
            "563/563 [==============================] - 13s 24ms/step - loss: 11109.7861 - mean_absolute_error: 80.7234\n",
            "Epoch 63/120\n",
            "563/563 [==============================] - 14s 25ms/step - loss: 14124.8936 - mean_absolute_error: 89.4535\n",
            "Epoch 64/120\n",
            "563/563 [==============================] - 14s 26ms/step - loss: 15775.5254 - mean_absolute_error: 93.8773\n",
            "Epoch 65/120\n",
            "563/563 [==============================] - 14s 25ms/step - loss: 10657.2598 - mean_absolute_error: 79.5152\n",
            "Epoch 66/120\n",
            "563/563 [==============================] - 13s 24ms/step - loss: 12446.7363 - mean_absolute_error: 86.2601\n",
            "Epoch 67/120\n",
            "563/563 [==============================] - 14s 25ms/step - loss: 13640.4004 - mean_absolute_error: 89.3450\n",
            "Epoch 68/120\n",
            "563/563 [==============================] - 13s 24ms/step - loss: 12124.7041 - mean_absolute_error: 82.0850\n",
            "Epoch 69/120\n",
            "563/563 [==============================] - 14s 25ms/step - loss: 11410.4453 - mean_absolute_error: 80.9145\n",
            "Epoch 70/120\n",
            "563/563 [==============================] - 14s 25ms/step - loss: 10028.0107 - mean_absolute_error: 77.9466\n",
            "Epoch 71/120\n",
            "563/563 [==============================] - 14s 24ms/step - loss: 11890.3008 - mean_absolute_error: 81.7991\n",
            "Epoch 72/120\n",
            "563/563 [==============================] - 14s 26ms/step - loss: 11963.3037 - mean_absolute_error: 81.0192\n",
            "Epoch 73/120\n",
            "563/563 [==============================] - 14s 26ms/step - loss: 10934.5732 - mean_absolute_error: 79.5811\n",
            "Epoch 74/120\n",
            "563/563 [==============================] - 15s 26ms/step - loss: 10881.0186 - mean_absolute_error: 79.3149\n",
            "Epoch 75/120\n",
            "563/563 [==============================] - 14s 24ms/step - loss: 12022.3994 - mean_absolute_error: 86.4156\n",
            "Epoch 76/120\n",
            "563/563 [==============================] - 14s 26ms/step - loss: 11550.0381 - mean_absolute_error: 80.5909\n",
            "Epoch 77/120\n",
            "563/563 [==============================] - 14s 26ms/step - loss: 13304.3105 - mean_absolute_error: 84.1014\n",
            "Epoch 78/120\n",
            "563/563 [==============================] - 14s 26ms/step - loss: 11810.2568 - mean_absolute_error: 83.5696\n",
            "Epoch 79/120\n",
            "563/563 [==============================] - 14s 25ms/step - loss: 10947.2383 - mean_absolute_error: 79.8163\n",
            "Epoch 80/120\n",
            "563/563 [==============================] - 14s 25ms/step - loss: 10406.6758 - mean_absolute_error: 77.7536\n",
            "Epoch 81/120\n",
            "563/563 [==============================] - 13s 24ms/step - loss: 9844.0293 - mean_absolute_error: 76.1925\n",
            "Epoch 82/120\n",
            "563/563 [==============================] - 14s 25ms/step - loss: 11192.6494 - mean_absolute_error: 82.2625\n",
            "Epoch 83/120\n",
            "563/563 [==============================] - 14s 25ms/step - loss: 12866.3037 - mean_absolute_error: 86.2712\n",
            "Epoch 84/120\n",
            "563/563 [==============================] - 14s 26ms/step - loss: 10459.5605 - mean_absolute_error: 79.6891\n",
            "Epoch 85/120\n",
            "563/563 [==============================] - 14s 25ms/step - loss: 11444.5664 - mean_absolute_error: 82.3505\n",
            "Epoch 86/120\n",
            "563/563 [==============================] - 14s 24ms/step - loss: 10805.8340 - mean_absolute_error: 77.5137\n",
            "Epoch 87/120\n",
            "563/563 [==============================] - 14s 25ms/step - loss: 10029.4785 - mean_absolute_error: 77.3628\n",
            "Epoch 88/120\n",
            "563/563 [==============================] - 14s 25ms/step - loss: 11159.0947 - mean_absolute_error: 80.8895\n",
            "Epoch 89/120\n",
            "563/563 [==============================] - 14s 25ms/step - loss: 9591.0439 - mean_absolute_error: 75.1700\n",
            "Epoch 90/120\n",
            "563/563 [==============================] - 14s 25ms/step - loss: 9922.2295 - mean_absolute_error: 73.7680\n",
            "Epoch 91/120\n",
            "563/563 [==============================] - 14s 26ms/step - loss: 10222.2178 - mean_absolute_error: 77.4628\n",
            "Epoch 92/120\n",
            "563/563 [==============================] - 14s 25ms/step - loss: 9848.1777 - mean_absolute_error: 75.7834\n",
            "Epoch 93/120\n",
            "563/563 [==============================] - 13s 23ms/step - loss: 10757.3066 - mean_absolute_error: 79.4178\n",
            "Epoch 94/120\n",
            "563/563 [==============================] - 14s 25ms/step - loss: 10063.4023 - mean_absolute_error: 76.8664\n",
            "Epoch 95/120\n",
            "563/563 [==============================] - 15s 26ms/step - loss: 11259.5547 - mean_absolute_error: 80.7671\n",
            "Epoch 96/120\n",
            "563/563 [==============================] - 14s 24ms/step - loss: 9199.7256 - mean_absolute_error: 74.4744\n",
            "Epoch 97/120\n",
            "563/563 [==============================] - 14s 26ms/step - loss: 10427.1592 - mean_absolute_error: 78.1721\n",
            "Epoch 98/120\n",
            "563/563 [==============================] - 14s 26ms/step - loss: 9132.3281 - mean_absolute_error: 73.4539\n",
            "Epoch 99/120\n",
            "563/563 [==============================] - 14s 25ms/step - loss: 10033.6953 - mean_absolute_error: 76.3418\n",
            "Epoch 100/120\n",
            "563/563 [==============================] - 14s 25ms/step - loss: 8806.8027 - mean_absolute_error: 71.9835\n",
            "Epoch 101/120\n",
            "563/563 [==============================] - 14s 25ms/step - loss: 9059.9824 - mean_absolute_error: 73.6386\n",
            "Epoch 102/120\n",
            "563/563 [==============================] - 15s 26ms/step - loss: 14408.2686 - mean_absolute_error: 87.7381\n",
            "Epoch 103/120\n",
            "563/563 [==============================] - 15s 26ms/step - loss: 9886.3994 - mean_absolute_error: 74.4265\n",
            "Epoch 104/120\n",
            "563/563 [==============================] - 14s 25ms/step - loss: 9648.8281 - mean_absolute_error: 75.3248\n",
            "Epoch 105/120\n",
            "563/563 [==============================] - 14s 25ms/step - loss: 10097.1729 - mean_absolute_error: 76.2690\n",
            "Epoch 106/120\n",
            "563/563 [==============================] - 15s 26ms/step - loss: 8989.5820 - mean_absolute_error: 70.6127\n",
            "Epoch 107/120\n",
            "563/563 [==============================] - 14s 24ms/step - loss: 9016.6104 - mean_absolute_error: 72.3845\n",
            "Epoch 108/120\n",
            "563/563 [==============================] - 15s 27ms/step - loss: 10228.1445 - mean_absolute_error: 78.0503\n",
            "Epoch 109/120\n",
            "563/563 [==============================] - 14s 25ms/step - loss: 8371.2549 - mean_absolute_error: 70.3669\n",
            "Epoch 110/120\n",
            "563/563 [==============================] - 13s 24ms/step - loss: 10064.2959 - mean_absolute_error: 75.2744\n",
            "Epoch 111/120\n",
            "563/563 [==============================] - 14s 25ms/step - loss: 9134.6035 - mean_absolute_error: 74.1093\n",
            "Epoch 112/120\n",
            "563/563 [==============================] - 14s 25ms/step - loss: 9294.2344 - mean_absolute_error: 72.1557\n",
            "Epoch 113/120\n",
            "563/563 [==============================] - 14s 25ms/step - loss: 9852.0020 - mean_absolute_error: 76.1860\n",
            "Epoch 114/120\n",
            "563/563 [==============================] - 13s 24ms/step - loss: 10389.9482 - mean_absolute_error: 79.8550\n",
            "Epoch 115/120\n",
            "563/563 [==============================] - 14s 25ms/step - loss: 8590.1992 - mean_absolute_error: 71.8605\n",
            "Epoch 116/120\n",
            "563/563 [==============================] - 14s 25ms/step - loss: 9233.9072 - mean_absolute_error: 73.7038\n",
            "Epoch 117/120\n",
            "563/563 [==============================] - 13s 23ms/step - loss: 11927.8975 - mean_absolute_error: 82.2224\n",
            "Epoch 118/120\n",
            "563/563 [==============================] - 14s 25ms/step - loss: 9468.6445 - mean_absolute_error: 74.3067\n",
            "Epoch 119/120\n",
            "563/563 [==============================] - 13s 24ms/step - loss: 8435.5254 - mean_absolute_error: 69.0772\n",
            "Epoch 120/120\n",
            "563/563 [==============================] - 14s 25ms/step - loss: 8662.3379 - mean_absolute_error: 70.1075\n",
            "Model training is completed\n",
            "--------------------------------------------------\n",
            "Lets predict and extrapolate\n",
            "3/3 [==============================] - 1s 8ms/step\n"
          ]
        },
        {
          "output_type": "stream",
          "name": "stderr",
          "text": [
            "\rtqdm() Progress Bar:   0%|          | 0/30 [00:00<?, ?it/s]"
          ]
        },
        {
          "output_type": "stream",
          "name": "stdout",
          "text": [
            "1/1 [==============================] - 1s 793ms/step\n"
          ]
        },
        {
          "output_type": "stream",
          "name": "stderr",
          "text": [
            "\rtqdm() Progress Bar:   3%|▎         | 1/30 [00:00<00:25,  1.15it/s]"
          ]
        },
        {
          "output_type": "stream",
          "name": "stdout",
          "text": [
            "1/1 [==============================] - 0s 25ms/step\n",
            "1/1 [==============================] - 0s 24ms/step\n"
          ]
        },
        {
          "output_type": "stream",
          "name": "stderr",
          "text": [
            "\rtqdm() Progress Bar:  10%|█         | 3/30 [00:01<00:08,  3.33it/s]"
          ]
        },
        {
          "output_type": "stream",
          "name": "stdout",
          "text": [
            "1/1 [==============================] - 0s 24ms/step\n",
            "1/1 [==============================] - 0s 22ms/step\n"
          ]
        },
        {
          "output_type": "stream",
          "name": "stderr",
          "text": [
            "\rtqdm() Progress Bar:  17%|█▋        | 5/30 [00:01<00:04,  5.20it/s]"
          ]
        },
        {
          "output_type": "stream",
          "name": "stdout",
          "text": [
            "1/1 [==============================] - 0s 25ms/step\n"
          ]
        },
        {
          "output_type": "stream",
          "name": "stderr",
          "text": [
            "\rtqdm() Progress Bar:  20%|██        | 6/30 [00:01<00:04,  5.90it/s]"
          ]
        },
        {
          "output_type": "stream",
          "name": "stdout",
          "text": [
            "1/1 [==============================] - 0s 24ms/step\n",
            "1/1 [==============================] - 0s 23ms/step\n"
          ]
        },
        {
          "output_type": "stream",
          "name": "stderr",
          "text": [
            "\rtqdm() Progress Bar:  27%|██▋       | 8/30 [00:01<00:02,  7.37it/s]"
          ]
        },
        {
          "output_type": "stream",
          "name": "stdout",
          "text": [
            "1/1 [==============================] - 0s 23ms/step\n",
            "1/1 [==============================] - 0s 23ms/step\n"
          ]
        },
        {
          "output_type": "stream",
          "name": "stderr",
          "text": [
            "\rtqdm() Progress Bar:  33%|███▎      | 10/30 [00:01<00:02,  8.47it/s]"
          ]
        },
        {
          "output_type": "stream",
          "name": "stdout",
          "text": [
            "1/1 [==============================] - 0s 23ms/step\n",
            "1/1 [==============================] - 0s 25ms/step\n"
          ]
        },
        {
          "output_type": "stream",
          "name": "stderr",
          "text": [
            "\rtqdm() Progress Bar:  40%|████      | 12/30 [00:01<00:01,  9.01it/s]"
          ]
        },
        {
          "output_type": "stream",
          "name": "stdout",
          "text": [
            "1/1 [==============================] - 0s 23ms/step\n",
            "1/1 [==============================] - 0s 28ms/step\n"
          ]
        },
        {
          "output_type": "stream",
          "name": "stderr",
          "text": [
            "\rtqdm() Progress Bar:  47%|████▋     | 14/30 [00:02<00:01,  9.37it/s]"
          ]
        },
        {
          "output_type": "stream",
          "name": "stdout",
          "text": [
            "1/1 [==============================] - 0s 23ms/step\n",
            "1/1 [==============================] - 0s 24ms/step\n"
          ]
        },
        {
          "output_type": "stream",
          "name": "stderr",
          "text": [
            "\rtqdm() Progress Bar:  53%|█████▎    | 16/30 [00:02<00:01,  9.84it/s]"
          ]
        },
        {
          "output_type": "stream",
          "name": "stdout",
          "text": [
            "1/1 [==============================] - 0s 23ms/step\n",
            "1/1 [==============================] - 0s 22ms/step\n"
          ]
        },
        {
          "output_type": "stream",
          "name": "stderr",
          "text": [
            "\rtqdm() Progress Bar:  60%|██████    | 18/30 [00:02<00:01, 10.03it/s]"
          ]
        },
        {
          "output_type": "stream",
          "name": "stdout",
          "text": [
            "1/1 [==============================] - 0s 23ms/step\n",
            "1/1 [==============================] - 0s 23ms/step\n"
          ]
        },
        {
          "output_type": "stream",
          "name": "stderr",
          "text": [
            "\rtqdm() Progress Bar:  67%|██████▋   | 20/30 [00:02<00:00, 10.10it/s]"
          ]
        },
        {
          "output_type": "stream",
          "name": "stdout",
          "text": [
            "1/1 [==============================] - 0s 23ms/step\n",
            "1/1 [==============================] - 0s 25ms/step\n"
          ]
        },
        {
          "output_type": "stream",
          "name": "stderr",
          "text": [
            "\rtqdm() Progress Bar:  73%|███████▎  | 22/30 [00:02<00:00, 10.07it/s]"
          ]
        },
        {
          "output_type": "stream",
          "name": "stdout",
          "text": [
            "1/1 [==============================] - 0s 23ms/step\n",
            "1/1 [==============================] - 0s 24ms/step\n"
          ]
        },
        {
          "output_type": "stream",
          "name": "stderr",
          "text": [
            "\rtqdm() Progress Bar:  80%|████████  | 24/30 [00:03<00:00, 10.17it/s]"
          ]
        },
        {
          "output_type": "stream",
          "name": "stdout",
          "text": [
            "1/1 [==============================] - 0s 24ms/step\n",
            "1/1 [==============================] - 0s 23ms/step\n"
          ]
        },
        {
          "output_type": "stream",
          "name": "stderr",
          "text": [
            "\rtqdm() Progress Bar:  87%|████████▋ | 26/30 [00:03<00:00, 10.31it/s]"
          ]
        },
        {
          "output_type": "stream",
          "name": "stdout",
          "text": [
            "1/1 [==============================] - 0s 26ms/step\n",
            "1/1 [==============================] - 0s 23ms/step\n"
          ]
        },
        {
          "output_type": "stream",
          "name": "stderr",
          "text": [
            "\rtqdm() Progress Bar:  93%|█████████▎| 28/30 [00:03<00:00, 10.17it/s]"
          ]
        },
        {
          "output_type": "stream",
          "name": "stdout",
          "text": [
            "1/1 [==============================] - 0s 27ms/step\n",
            "1/1 [==============================] - 0s 23ms/step\n"
          ]
        },
        {
          "output_type": "stream",
          "name": "stderr",
          "text": [
            "tqdm() Progress Bar: 100%|██████████| 30/30 [00:03<00:00,  8.19it/s]\n"
          ]
        },
        {
          "output_type": "stream",
          "name": "stdout",
          "text": [
            "Computed extrapolations\n",
            "Created dates metrics\n",
            "Computed extrapolation dataframe\n"
          ]
        },
        {
          "output_type": "display_data",
          "data": {
            "text/plain": [
              "<Figure size 1200x400 with 1 Axes>"
            ],
            "image/png": "[encoded data removed]"
          },
          "metadata": {}
        },
        {
          "output_type": "stream",
          "name": "stdout",
          "text": [
            "\r[*********************100%%**********************]  1 of 1 completed\n",
            "Nan values in the dataframe are 0\n",
            "Start date of dataframe is  2021-08-04 00:00:00\n",
            "End date of dataframe is  2023-12-29 00:00:00\n",
            "Featurization is complete.\n",
            "--------------------------------------------------\n",
            "Shape of X_train is  (593, 12)\n",
            "Shape of y_train is  (593, 1)\n",
            "Shape of X_test is  (33, 12)\n",
            "Shape of y_test is  (33, 1)\n",
            "Min max scaling of data is complete\n",
            "Data processing, train test split and time series data generation is completed.\n",
            "--------------------------------------------------\n",
            "Starting with model training\n",
            "Epoch 1/120\n",
            "563/563 [==============================] - 19s 25ms/step - loss: 1562971.6250 - mean_absolute_error: 884.8260\n",
            "Epoch 2/120\n",
            "563/563 [==============================] - 14s 25ms/step - loss: 122293.7656 - mean_absolute_error: 268.1488\n",
            "Epoch 3/120\n",
            "563/563 [==============================] - 14s 25ms/step - loss: 75742.1328 - mean_absolute_error: 211.5491\n",
            "Epoch 4/120\n",
            "563/563 [==============================] - 14s 25ms/step - loss: 31688.1172 - mean_absolute_error: 141.1450\n",
            "Epoch 5/120\n",
            "563/563 [==============================] - 13s 24ms/step - loss: 22125.3652 - mean_absolute_error: 118.0110\n",
            "Epoch 6/120\n",
            "563/563 [==============================] - 14s 25ms/step - loss: 19106.5020 - mean_absolute_error: 111.8478\n",
            "Epoch 7/120\n",
            "563/563 [==============================] - 14s 25ms/step - loss: 19083.0859 - mean_absolute_error: 112.0640\n",
            "Epoch 8/120\n",
            "563/563 [==============================] - 14s 25ms/step - loss: 17107.5391 - mean_absolute_error: 104.4193\n",
            "Epoch 9/120\n",
            "563/563 [==============================] - 14s 25ms/step - loss: 14408.5947 - mean_absolute_error: 96.0118\n",
            "Epoch 10/120\n",
            "563/563 [==============================] - 14s 25ms/step - loss: 14389.4180 - mean_absolute_error: 96.9519\n",
            "Epoch 11/120\n",
            "563/563 [==============================] - 13s 24ms/step - loss: 13250.0547 - mean_absolute_error: 90.5382\n",
            "Epoch 12/120\n",
            "563/563 [==============================] - 14s 25ms/step - loss: 12489.5947 - mean_absolute_error: 90.5628\n",
            "Epoch 13/120\n",
            "563/563 [==============================] - 14s 25ms/step - loss: 11002.3750 - mean_absolute_error: 82.1851\n",
            "Epoch 14/120\n",
            "563/563 [==============================] - 13s 24ms/step - loss: 11513.2119 - mean_absolute_error: 86.5729\n",
            "Epoch 15/120\n",
            "563/563 [==============================] - 14s 25ms/step - loss: 11545.9922 - mean_absolute_error: 83.9793\n",
            "Epoch 16/120\n",
            "563/563 [==============================] - 14s 25ms/step - loss: 10395.5742 - mean_absolute_error: 80.4875\n",
            "Epoch 17/120\n",
            "563/563 [==============================] - 13s 23ms/step - loss: 10543.4561 - mean_absolute_error: 81.7711\n",
            "Epoch 18/120\n",
            "563/563 [==============================] - 14s 25ms/step - loss: 10126.1172 - mean_absolute_error: 77.1950\n",
            "Epoch 19/120\n",
            "563/563 [==============================] - 14s 25ms/step - loss: 10197.4932 - mean_absolute_error: 80.2771\n",
            "Epoch 20/120\n",
            "563/563 [==============================] - 13s 23ms/step - loss: 8609.0869 - mean_absolute_error: 74.1252\n",
            "Epoch 21/120\n",
            "563/563 [==============================] - 14s 25ms/step - loss: 8998.7305 - mean_absolute_error: 73.7978\n",
            "Epoch 22/120\n",
            "563/563 [==============================] - 14s 25ms/step - loss: 9438.8730 - mean_absolute_error: 76.4585\n",
            "Epoch 23/120\n",
            "563/563 [==============================] - 14s 25ms/step - loss: 8113.0435 - mean_absolute_error: 71.5350\n",
            "Epoch 24/120\n",
            "563/563 [==============================] - 14s 25ms/step - loss: 8225.1992 - mean_absolute_error: 71.9998\n",
            "Epoch 25/120\n",
            "563/563 [==============================] - 18s 32ms/step - loss: 7846.5630 - mean_absolute_error: 69.6180\n",
            "Epoch 26/120\n",
            "563/563 [==============================] - 14s 25ms/step - loss: 8067.6084 - mean_absolute_error: 69.8778\n",
            "Epoch 27/120\n",
            "563/563 [==============================] - 14s 25ms/step - loss: 7370.9858 - mean_absolute_error: 68.3607\n",
            "Epoch 28/120\n",
            "563/563 [==============================] - 13s 24ms/step - loss: 7436.5161 - mean_absolute_error: 67.8782\n",
            "Epoch 29/120\n",
            "563/563 [==============================] - 14s 25ms/step - loss: 7765.5859 - mean_absolute_error: 70.4795\n",
            "Epoch 30/120\n",
            "563/563 [==============================] - 14s 25ms/step - loss: 6278.1460 - mean_absolute_error: 61.3753\n",
            "Epoch 31/120\n",
            "563/563 [==============================] - 13s 23ms/step - loss: 7177.2354 - mean_absolute_error: 67.3939\n",
            "Epoch 32/120\n",
            "563/563 [==============================] - 14s 25ms/step - loss: 7075.1528 - mean_absolute_error: 66.0530\n",
            "Epoch 33/120\n",
            "563/563 [==============================] - 14s 25ms/step - loss: 7007.2085 - mean_absolute_error: 66.5248\n",
            "Epoch 34/120\n",
            "563/563 [==============================] - 14s 26ms/step - loss: 6514.5225 - mean_absolute_error: 63.1554\n",
            "Epoch 35/120\n",
            "563/563 [==============================] - 14s 25ms/step - loss: 7281.8403 - mean_absolute_error: 66.6642\n",
            "Epoch 36/120\n",
            "563/563 [==============================] - 14s 26ms/step - loss: 5902.9619 - mean_absolute_error: 60.9235\n",
            "Epoch 37/120\n",
            "563/563 [==============================] - 14s 25ms/step - loss: 6388.3486 - mean_absolute_error: 63.7294\n",
            "Epoch 38/120\n",
            "563/563 [==============================] - 14s 25ms/step - loss: 5990.3838 - mean_absolute_error: 60.4127\n",
            "Epoch 39/120\n",
            "563/563 [==============================] - 14s 25ms/step - loss: 5938.2856 - mean_absolute_error: 60.4996\n",
            "Epoch 40/120\n",
            "563/563 [==============================] - 13s 24ms/step - loss: 6443.5034 - mean_absolute_error: 63.1915\n",
            "Epoch 41/120\n",
            "563/563 [==============================] - 14s 25ms/step - loss: 5607.9702 - mean_absolute_error: 59.1003\n",
            "Epoch 42/120\n",
            "563/563 [==============================] - 14s 25ms/step - loss: 6317.3423 - mean_absolute_error: 63.2023\n",
            "Epoch 43/120\n",
            "563/563 [==============================] - 13s 24ms/step - loss: 5964.6802 - mean_absolute_error: 61.0952\n",
            "Epoch 44/120\n",
            "563/563 [==============================] - 14s 24ms/step - loss: 5631.6777 - mean_absolute_error: 59.9257\n",
            "Epoch 45/120\n",
            "563/563 [==============================] - 14s 25ms/step - loss: 5551.9541 - mean_absolute_error: 58.6312\n",
            "Epoch 46/120\n",
            "563/563 [==============================] - 14s 24ms/step - loss: 6481.2026 - mean_absolute_error: 63.8879\n",
            "Epoch 47/120\n",
            "563/563 [==============================] - 14s 25ms/step - loss: 4833.8374 - mean_absolute_error: 54.7288\n",
            "Epoch 48/120\n",
            "563/563 [==============================] - 14s 25ms/step - loss: 5484.5757 - mean_absolute_error: 58.0292\n",
            "Epoch 49/120\n",
            "563/563 [==============================] - 14s 25ms/step - loss: 5483.0254 - mean_absolute_error: 58.7804\n",
            "Epoch 50/120\n",
            "563/563 [==============================] - 14s 25ms/step - loss: 5673.6348 - mean_absolute_error: 58.4359\n",
            "Epoch 51/120\n",
            "563/563 [==============================] - 14s 26ms/step - loss: 5008.8896 - mean_absolute_error: 54.7452\n",
            "Epoch 52/120\n",
            "563/563 [==============================] - 13s 23ms/step - loss: 5586.9375 - mean_absolute_error: 59.6018\n",
            "Epoch 53/120\n",
            "563/563 [==============================] - 13s 24ms/step - loss: 5294.9619 - mean_absolute_error: 58.9290\n",
            "Epoch 54/120\n",
            "563/563 [==============================] - 14s 25ms/step - loss: 5119.9438 - mean_absolute_error: 56.3082\n",
            "Epoch 55/120\n",
            "563/563 [==============================] - 14s 25ms/step - loss: 4933.9414 - mean_absolute_error: 56.2448\n",
            "Epoch 56/120\n",
            "563/563 [==============================] - 14s 24ms/step - loss: 4998.1636 - mean_absolute_error: 56.7739\n",
            "Epoch 57/120\n",
            "563/563 [==============================] - 14s 26ms/step - loss: 5472.7041 - mean_absolute_error: 59.0665\n",
            "Epoch 58/120\n",
            "563/563 [==============================] - 14s 25ms/step - loss: 4897.8486 - mean_absolute_error: 55.8289\n",
            "Epoch 59/120\n",
            "563/563 [==============================] - 14s 25ms/step - loss: 4775.0225 - mean_absolute_error: 53.9811\n",
            "Epoch 60/120\n",
            "563/563 [==============================] - 14s 25ms/step - loss: 5457.0107 - mean_absolute_error: 59.0337\n",
            "Epoch 61/120\n",
            "563/563 [==============================] - 13s 24ms/step - loss: 5155.5376 - mean_absolute_error: 57.3597\n",
            "Epoch 62/120\n",
            "563/563 [==============================] - 18s 31ms/step - loss: 5036.1216 - mean_absolute_error: 56.6814\n",
            "Epoch 63/120\n",
            "563/563 [==============================] - 14s 25ms/step - loss: 4802.1689 - mean_absolute_error: 54.2246\n",
            "Epoch 64/120\n",
            "563/563 [==============================] - 14s 25ms/step - loss: 4925.5850 - mean_absolute_error: 55.5064\n",
            "Epoch 65/120\n",
            "563/563 [==============================] - 14s 24ms/step - loss: 5292.4082 - mean_absolute_error: 57.5505\n",
            "Epoch 66/120\n",
            "563/563 [==============================] - 14s 25ms/step - loss: 4983.5190 - mean_absolute_error: 55.7545\n",
            "Epoch 67/120\n",
            "563/563 [==============================] - 14s 25ms/step - loss: 4954.0669 - mean_absolute_error: 55.8845\n",
            "Epoch 68/120\n",
            "563/563 [==============================] - 14s 25ms/step - loss: 4284.1064 - mean_absolute_error: 53.1355\n",
            "Epoch 69/120\n",
            "563/563 [==============================] - 14s 25ms/step - loss: 4623.7749 - mean_absolute_error: 53.5704\n",
            "Epoch 70/120\n",
            "563/563 [==============================] - 13s 23ms/step - loss: 4845.0547 - mean_absolute_error: 53.8387\n",
            "Epoch 71/120\n",
            "563/563 [==============================] - 14s 25ms/step - loss: 4352.0713 - mean_absolute_error: 52.2747\n",
            "Epoch 72/120\n",
            "563/563 [==============================] - 15s 26ms/step - loss: 4642.2339 - mean_absolute_error: 53.8302\n",
            "Epoch 73/120\n",
            "563/563 [==============================] - 14s 25ms/step - loss: 5168.4336 - mean_absolute_error: 57.3247\n",
            "Epoch 74/120\n",
            "563/563 [==============================] - 14s 25ms/step - loss: 5199.8115 - mean_absolute_error: 55.9683\n",
            "Epoch 75/120\n",
            "563/563 [==============================] - 14s 25ms/step - loss: 4712.2261 - mean_absolute_error: 53.8367\n",
            "Epoch 76/120\n",
            "563/563 [==============================] - 14s 25ms/step - loss: 4159.7432 - mean_absolute_error: 51.1267\n",
            "Epoch 77/120\n",
            "563/563 [==============================] - 14s 25ms/step - loss: 4610.5459 - mean_absolute_error: 53.2820\n",
            "Epoch 78/120\n",
            "563/563 [==============================] - 14s 25ms/step - loss: 4280.0645 - mean_absolute_error: 51.3779\n",
            "Epoch 79/120\n",
            "563/563 [==============================] - 13s 24ms/step - loss: 4039.7859 - mean_absolute_error: 50.6888\n",
            "Epoch 80/120\n",
            "563/563 [==============================] - 15s 26ms/step - loss: 4792.0825 - mean_absolute_error: 54.8603\n",
            "Epoch 81/120\n",
            "563/563 [==============================] - 14s 25ms/step - loss: 4069.4446 - mean_absolute_error: 50.9316\n",
            "Epoch 82/120\n",
            "563/563 [==============================] - 13s 24ms/step - loss: 4373.4272 - mean_absolute_error: 52.6958\n",
            "Epoch 83/120\n",
            "563/563 [==============================] - 14s 25ms/step - loss: 4243.0615 - mean_absolute_error: 51.4101\n",
            "Epoch 84/120\n",
            "563/563 [==============================] - 14s 25ms/step - loss: 4654.8413 - mean_absolute_error: 54.4214\n",
            "Epoch 85/120\n",
            "563/563 [==============================] - 14s 25ms/step - loss: 4327.2983 - mean_absolute_error: 51.9082\n",
            "Epoch 86/120\n",
            "563/563 [==============================] - 14s 25ms/step - loss: 4943.2769 - mean_absolute_error: 54.9683\n",
            "Epoch 87/120\n",
            "563/563 [==============================] - 14s 25ms/step - loss: 4873.6597 - mean_absolute_error: 54.9200\n",
            "Epoch 88/120\n",
            "563/563 [==============================] - 13s 23ms/step - loss: 4676.5762 - mean_absolute_error: 54.9091\n",
            "Epoch 89/120\n",
            "563/563 [==============================] - 14s 25ms/step - loss: 3843.6311 - mean_absolute_error: 48.8053\n",
            "Epoch 90/120\n",
            "563/563 [==============================] - 14s 25ms/step - loss: 4339.2192 - mean_absolute_error: 51.4201\n",
            "Epoch 91/120\n",
            "563/563 [==============================] - 14s 26ms/step - loss: 4468.8896 - mean_absolute_error: 53.6657\n",
            "Epoch 92/120\n",
            "563/563 [==============================] - 14s 26ms/step - loss: 4343.6831 - mean_absolute_error: 52.6532\n",
            "Epoch 93/120\n",
            "563/563 [==============================] - 14s 26ms/step - loss: 4712.2778 - mean_absolute_error: 53.3602\n",
            "Epoch 94/120\n",
            "563/563 [==============================] - 13s 24ms/step - loss: 4839.0938 - mean_absolute_error: 53.5871\n",
            "Epoch 95/120\n",
            "563/563 [==============================] - 14s 25ms/step - loss: 4356.4082 - mean_absolute_error: 52.2266\n",
            "Epoch 96/120\n",
            "563/563 [==============================] - 14s 26ms/step - loss: 4152.1685 - mean_absolute_error: 52.0349\n",
            "Epoch 97/120\n",
            "563/563 [==============================] - 13s 24ms/step - loss: 4341.9248 - mean_absolute_error: 52.7672\n",
            "Epoch 98/120\n",
            "563/563 [==============================] - 14s 25ms/step - loss: 4601.8120 - mean_absolute_error: 54.7015\n",
            "Epoch 99/120\n",
            "563/563 [==============================] - 14s 26ms/step - loss: 4557.5513 - mean_absolute_error: 52.7570\n",
            "Epoch 100/120\n",
            "563/563 [==============================] - 13s 23ms/step - loss: 4569.3237 - mean_absolute_error: 53.2431\n",
            "Epoch 101/120\n",
            "563/563 [==============================] - 14s 25ms/step - loss: 4674.5625 - mean_absolute_error: 54.3822\n",
            "Epoch 102/120\n",
            "563/563 [==============================] - 14s 25ms/step - loss: 4838.2700 - mean_absolute_error: 54.5621\n",
            "Epoch 103/120\n",
            "563/563 [==============================] - 13s 24ms/step - loss: 4212.1152 - mean_absolute_error: 52.5327\n",
            "Epoch 104/120\n",
            "563/563 [==============================] - 14s 25ms/step - loss: 4439.4854 - mean_absolute_error: 51.8626\n",
            "Epoch 105/120\n",
            "563/563 [==============================] - 14s 25ms/step - loss: 4463.1626 - mean_absolute_error: 52.3086\n",
            "Epoch 106/120\n",
            "563/563 [==============================] - 14s 26ms/step - loss: 4078.8569 - mean_absolute_error: 51.3963\n",
            "Epoch 107/120\n",
            "563/563 [==============================] - 14s 26ms/step - loss: 4545.3813 - mean_absolute_error: 53.6982\n",
            "Epoch 108/120\n",
            "563/563 [==============================] - 14s 26ms/step - loss: 4319.8218 - mean_absolute_error: 52.0688\n",
            "Epoch 109/120\n",
            "563/563 [==============================] - 14s 24ms/step - loss: 4150.5645 - mean_absolute_error: 51.6576\n",
            "Epoch 110/120\n",
            "563/563 [==============================] - 14s 25ms/step - loss: 4227.9678 - mean_absolute_error: 52.3577\n",
            "Epoch 111/120\n",
            "563/563 [==============================] - 15s 26ms/step - loss: 4430.2378 - mean_absolute_error: 53.8891\n",
            "Epoch 112/120\n",
            "563/563 [==============================] - 14s 26ms/step - loss: 4341.7412 - mean_absolute_error: 52.6422\n",
            "Epoch 113/120\n",
            "563/563 [==============================] - 14s 24ms/step - loss: 3817.0454 - mean_absolute_error: 49.7818\n",
            "Epoch 114/120\n",
            "563/563 [==============================] - 14s 25ms/step - loss: 4312.2134 - mean_absolute_error: 51.6212\n",
            "Epoch 115/120\n",
            "563/563 [==============================] - 14s 25ms/step - loss: 4109.8408 - mean_absolute_error: 50.7646\n",
            "Epoch 116/120\n",
            "563/563 [==============================] - 14s 26ms/step - loss: 4232.9019 - mean_absolute_error: 52.2137\n",
            "Epoch 117/120\n",
            "563/563 [==============================] - 15s 26ms/step - loss: 4372.2290 - mean_absolute_error: 52.0548\n",
            "Epoch 118/120\n",
            "563/563 [==============================] - 14s 26ms/step - loss: 4026.9717 - mean_absolute_error: 50.1845\n",
            "Epoch 119/120\n",
            "563/563 [==============================] - 14s 26ms/step - loss: 4746.8740 - mean_absolute_error: 54.4080\n",
            "Epoch 120/120\n",
            "563/563 [==============================] - 14s 25ms/step - loss: 4362.2534 - mean_absolute_error: 50.8332\n",
            "Model training is completed\n",
            "--------------------------------------------------\n",
            "Lets predict and extrapolate\n",
            "3/3 [==============================] - 1s 8ms/step\n"
          ]
        },
        {
          "output_type": "stream",
          "name": "stderr",
          "text": [
            "\rtqdm() Progress Bar:   0%|          | 0/30 [00:00<?, ?it/s]"
          ]
        },
        {
          "output_type": "stream",
          "name": "stdout",
          "text": [
            "1/1 [==============================] - 1s 795ms/step\n"
          ]
        },
        {
          "output_type": "stream",
          "name": "stderr",
          "text": [
            "\rtqdm() Progress Bar:   3%|▎         | 1/30 [00:00<00:25,  1.15it/s]"
          ]
        },
        {
          "output_type": "stream",
          "name": "stdout",
          "text": [
            "1/1 [==============================] - 0s 25ms/step\n"
          ]
        },
        {
          "output_type": "stream",
          "name": "stderr",
          "text": [
            "\rtqdm() Progress Bar:   7%|▋         | 2/30 [00:00<00:11,  2.38it/s]"
          ]
        },
        {
          "output_type": "stream",
          "name": "stdout",
          "text": [
            "1/1 [==============================] - 0s 25ms/step\n",
            "1/1 [==============================] - 0s 23ms/step\n"
          ]
        },
        {
          "output_type": "stream",
          "name": "stderr",
          "text": [
            "\rtqdm() Progress Bar:  13%|█▎        | 4/30 [00:01<00:05,  4.59it/s]"
          ]
        },
        {
          "output_type": "stream",
          "name": "stdout",
          "text": [
            "1/1 [==============================] - 0s 22ms/step\n",
            "1/1 [==============================] - 0s 23ms/step\n"
          ]
        },
        {
          "output_type": "stream",
          "name": "stderr",
          "text": [
            "\rtqdm() Progress Bar:  20%|██        | 6/30 [00:01<00:03,  6.31it/s]"
          ]
        },
        {
          "output_type": "stream",
          "name": "stdout",
          "text": [
            "1/1 [==============================] - 0s 24ms/step\n"
          ]
        },
        {
          "output_type": "stream",
          "name": "stderr",
          "text": [
            "\rtqdm() Progress Bar:  23%|██▎       | 7/30 [00:01<00:03,  6.87it/s]"
          ]
        },
        {
          "output_type": "stream",
          "name": "stdout",
          "text": [
            "1/1 [==============================] - 0s 25ms/step\n",
            "1/1 [==============================] - 0s 22ms/step\n"
          ]
        },
        {
          "output_type": "stream",
          "name": "stderr",
          "text": [
            "\rtqdm() Progress Bar:  30%|███       | 9/30 [00:01<00:02,  8.02it/s]"
          ]
        },
        {
          "output_type": "stream",
          "name": "stdout",
          "text": [
            "1/1 [==============================] - 0s 23ms/step\n",
            "1/1 [==============================] - 0s 24ms/step\n"
          ]
        },
        {
          "output_type": "stream",
          "name": "stderr",
          "text": [
            "\rtqdm() Progress Bar:  37%|███▋      | 11/30 [00:01<00:02,  8.81it/s]"
          ]
        },
        {
          "output_type": "stream",
          "name": "stdout",
          "text": [
            "1/1 [==============================] - 0s 24ms/step\n",
            "1/1 [==============================] - 0s 23ms/step\n"
          ]
        },
        {
          "output_type": "stream",
          "name": "stderr",
          "text": [
            "\rtqdm() Progress Bar:  43%|████▎     | 13/30 [00:02<00:01,  9.48it/s]"
          ]
        },
        {
          "output_type": "stream",
          "name": "stdout",
          "text": [
            "1/1 [==============================] - 0s 22ms/step\n",
            "1/1 [==============================] - 0s 25ms/step\n"
          ]
        },
        {
          "output_type": "stream",
          "name": "stderr",
          "text": [
            "\rtqdm() Progress Bar:  50%|█████     | 15/30 [00:02<00:01,  9.89it/s]"
          ]
        },
        {
          "output_type": "stream",
          "name": "stdout",
          "text": [
            "1/1 [==============================] - 0s 24ms/step\n",
            "1/1 [==============================] - 0s 28ms/step\n"
          ]
        },
        {
          "output_type": "stream",
          "name": "stderr",
          "text": [
            "\rtqdm() Progress Bar:  57%|█████▋    | 17/30 [00:02<00:01, 10.06it/s]"
          ]
        },
        {
          "output_type": "stream",
          "name": "stdout",
          "text": [
            "1/1 [==============================] - 0s 24ms/step\n",
            "1/1 [==============================] - 0s 23ms/step\n"
          ]
        },
        {
          "output_type": "stream",
          "name": "stderr",
          "text": [
            "\rtqdm() Progress Bar:  63%|██████▎   | 19/30 [00:02<00:01, 10.02it/s]"
          ]
        },
        {
          "output_type": "stream",
          "name": "stdout",
          "text": [
            "1/1 [==============================] - 0s 26ms/step\n",
            "1/1 [==============================] - 0s 26ms/step\n"
          ]
        },
        {
          "output_type": "stream",
          "name": "stderr",
          "text": [
            "\rtqdm() Progress Bar:  70%|███████   | 21/30 [00:02<00:00,  9.93it/s]"
          ]
        },
        {
          "output_type": "stream",
          "name": "stdout",
          "text": [
            "1/1 [==============================] - 0s 23ms/step\n",
            "1/1 [==============================] - 0s 22ms/step\n"
          ]
        },
        {
          "output_type": "stream",
          "name": "stderr",
          "text": [
            "\rtqdm() Progress Bar:  77%|███████▋  | 23/30 [00:02<00:00, 10.24it/s]"
          ]
        },
        {
          "output_type": "stream",
          "name": "stdout",
          "text": [
            "1/1 [==============================] - 0s 24ms/step\n",
            "1/1 [==============================] - 0s 22ms/step\n"
          ]
        },
        {
          "output_type": "stream",
          "name": "stderr",
          "text": [
            "\rtqdm() Progress Bar:  83%|████████▎ | 25/30 [00:03<00:00, 10.41it/s]"
          ]
        },
        {
          "output_type": "stream",
          "name": "stdout",
          "text": [
            "1/1 [==============================] - 0s 23ms/step\n",
            "1/1 [==============================] - 0s 23ms/step\n"
          ]
        },
        {
          "output_type": "stream",
          "name": "stderr",
          "text": [
            "\rtqdm() Progress Bar:  90%|█████████ | 27/30 [00:03<00:00, 10.51it/s]"
          ]
        },
        {
          "output_type": "stream",
          "name": "stdout",
          "text": [
            "1/1 [==============================] - 0s 32ms/step\n",
            "1/1 [==============================] - 0s 23ms/step\n"
          ]
        },
        {
          "output_type": "stream",
          "name": "stderr",
          "text": [
            "\rtqdm() Progress Bar:  97%|█████████▋| 29/30 [00:03<00:00, 10.17it/s]"
          ]
        },
        {
          "output_type": "stream",
          "name": "stdout",
          "text": [
            "1/1 [==============================] - 0s 24ms/step\n"
          ]
        },
        {
          "output_type": "stream",
          "name": "stderr",
          "text": [
            "\rtqdm() Progress Bar: 100%|██████████| 30/30 [00:03<00:00,  8.18it/s]"
          ]
        },
        {
          "output_type": "stream",
          "name": "stdout",
          "text": [
            "Computed extrapolations\n",
            "Created dates metrics\n",
            "Computed extrapolation dataframe\n"
          ]
        },
        {
          "output_type": "stream",
          "name": "stderr",
          "text": [
            "\n"
          ]
        },
        {
          "output_type": "display_data",
          "data": {
            "text/plain": [
              "<Figure size 1200x400 with 1 Axes>"
            ],
            "image/png": "[encoded data removed]"
          },
          "metadata": {}
        },
        {
          "output_type": "stream",
          "name": "stdout",
          "text": [
            "\r[*********************100%%**********************]  1 of 1 completed\n",
            "Nan values in the dataframe are 0\n",
            "Start date of dataframe is  2021-08-04 00:00:00\n",
            "End date of dataframe is  2023-12-29 00:00:00\n",
            "Featurization is complete.\n",
            "--------------------------------------------------\n",
            "Shape of X_train is  (593, 12)\n",
            "Shape of y_train is  (593, 1)\n",
            "Shape of X_test is  (33, 12)\n",
            "Shape of y_test is  (33, 1)\n",
            "Min max scaling of data is complete\n",
            "Data processing, train test split and time series data generation is completed.\n",
            "--------------------------------------------------\n",
            "Starting with model training\n",
            "Epoch 1/120\n",
            "563/563 [==============================] - 18s 24ms/step - loss: 92161.9219 - mean_absolute_error: 192.6763\n",
            "Epoch 2/120\n",
            "563/563 [==============================] - 14s 25ms/step - loss: 4396.5908 - mean_absolute_error: 52.9389\n",
            "Epoch 3/120\n",
            "563/563 [==============================] - 14s 24ms/step - loss: 3189.3848 - mean_absolute_error: 44.8449\n",
            "Epoch 4/120\n",
            "563/563 [==============================] - 13s 23ms/step - loss: 2663.7939 - mean_absolute_error: 40.6730\n",
            "Epoch 5/120\n",
            "563/563 [==============================] - 14s 25ms/step - loss: 2688.2410 - mean_absolute_error: 41.3875\n",
            "Epoch 6/120\n",
            "563/563 [==============================] - 14s 25ms/step - loss: 2119.3589 - mean_absolute_error: 37.0208\n",
            "Epoch 7/120\n",
            "563/563 [==============================] - 14s 25ms/step - loss: 1726.2794 - mean_absolute_error: 33.2077\n",
            "Epoch 8/120\n",
            "563/563 [==============================] - 14s 25ms/step - loss: 1360.3302 - mean_absolute_error: 29.3064\n",
            "Epoch 9/120\n",
            "563/563 [==============================] - 14s 24ms/step - loss: 1378.6060 - mean_absolute_error: 29.7766\n",
            "Epoch 10/120\n",
            "563/563 [==============================] - 14s 26ms/step - loss: 1286.3456 - mean_absolute_error: 27.6565\n",
            "Epoch 11/120\n",
            "563/563 [==============================] - 14s 25ms/step - loss: 1029.1610 - mean_absolute_error: 25.1082\n",
            "Epoch 12/120\n",
            "563/563 [==============================] - 14s 25ms/step - loss: 1013.7637 - mean_absolute_error: 24.4136\n",
            "Epoch 13/120\n",
            "563/563 [==============================] - 14s 24ms/step - loss: 928.6022 - mean_absolute_error: 23.9728\n",
            "Epoch 14/120\n",
            "563/563 [==============================] - 14s 25ms/step - loss: 956.3486 - mean_absolute_error: 24.4956\n",
            "Epoch 15/120\n",
            "563/563 [==============================] - 13s 24ms/step - loss: 822.1705 - mean_absolute_error: 22.7455\n",
            "Epoch 16/120\n",
            "563/563 [==============================] - 14s 25ms/step - loss: 780.2134 - mean_absolute_error: 21.9775\n",
            "Epoch 17/120\n",
            "563/563 [==============================] - 14s 25ms/step - loss: 792.6700 - mean_absolute_error: 21.4857\n",
            "Epoch 18/120\n",
            "563/563 [==============================] - 14s 25ms/step - loss: 731.3289 - mean_absolute_error: 21.4150\n",
            "Epoch 19/120\n",
            "563/563 [==============================] - 14s 24ms/step - loss: 713.4738 - mean_absolute_error: 21.1242\n",
            "Epoch 20/120\n",
            "563/563 [==============================] - 14s 25ms/step - loss: 711.0038 - mean_absolute_error: 21.1760\n",
            "Epoch 21/120\n",
            "563/563 [==============================] - 14s 25ms/step - loss: 665.0558 - mean_absolute_error: 20.3828\n",
            "Epoch 22/120\n",
            "563/563 [==============================] - 14s 25ms/step - loss: 672.1465 - mean_absolute_error: 20.8359\n",
            "Epoch 23/120\n",
            "563/563 [==============================] - 14s 25ms/step - loss: 636.6901 - mean_absolute_error: 20.0220\n",
            "Epoch 24/120\n",
            "563/563 [==============================] - 14s 25ms/step - loss: 643.3116 - mean_absolute_error: 20.2968\n",
            "Epoch 25/120\n",
            "563/563 [==============================] - 15s 26ms/step - loss: 567.4985 - mean_absolute_error: 18.9312\n",
            "Epoch 26/120\n",
            "563/563 [==============================] - 15s 26ms/step - loss: 631.8571 - mean_absolute_error: 20.3780\n",
            "Epoch 27/120\n",
            "563/563 [==============================] - 14s 25ms/step - loss: 619.4408 - mean_absolute_error: 19.2430\n",
            "Epoch 28/120\n",
            "563/563 [==============================] - 14s 25ms/step - loss: 511.1221 - mean_absolute_error: 17.8332\n",
            "Epoch 29/120\n",
            "563/563 [==============================] - 13s 23ms/step - loss: 590.0626 - mean_absolute_error: 19.0960\n",
            "Epoch 30/120\n",
            "274/563 [=============>................] - ETA: 6s - loss: 544.2859 - mean_absolute_error: 18.3254"
          ]
        },
        {
          "output_type": "error",
          "ename": "KeyboardInterrupt",
          "evalue": "ignored",
          "traceback": [
            "\u001b[0;31m---------------------------------------------------------------------------\u001b[0m",
            "\u001b[0;31mKeyboardInterrupt\u001b[0m                         Traceback (most recent call last)",
            "\u001b[0;32m<ipython-input-10-2ec78f8db891>\u001b[0m in \u001b[0;36m<cell line: 2>\u001b[0;34m()\u001b[0m\n\u001b[1;32m      1\u001b[0m \u001b[0mstock_list\u001b[0m\u001b[0;34m=\u001b[0m\u001b[0;34m[\u001b[0m\u001b[0;34m'POLYCAB'\u001b[0m\u001b[0;34m,\u001b[0m \u001b[0;34m'TITAN'\u001b[0m\u001b[0;34m,\u001b[0m \u001b[0;34m'ICICIBANK'\u001b[0m\u001b[0;34m,\u001b[0m \u001b[0;34m'FINEORG'\u001b[0m\u001b[0;34m,\u001b[0m \u001b[0;34m'DIVISLAB'\u001b[0m\u001b[0;34m,\u001b[0m \u001b[0;34m'NAVINFLUOR'\u001b[0m\u001b[0;34m,\u001b[0m \u001b[0;34m'INDIAMART'\u001b[0m\u001b[0;34m,\u001b[0m \u001b[0;34m'CARBORUNIV'\u001b[0m\u001b[0;34m]\u001b[0m\u001b[0;34m\u001b[0m\u001b[0;34m\u001b[0m\u001b[0m\n\u001b[0;32m----> 2\u001b[0;31m \u001b[0mextrapolation_automation\u001b[0m\u001b[0;34m(\u001b[0m\u001b[0mstock_list\u001b[0m\u001b[0;34m)\u001b[0m\u001b[0;34m\u001b[0m\u001b[0;34m\u001b[0m\u001b[0m\n\u001b[0m",
            "\u001b[0;32m<ipython-input-9-a0f418538d58>\u001b[0m in \u001b[0;36mextrapolation_automation\u001b[0;34m(stock_list)\u001b[0m\n\u001b[1;32m     82\u001b[0m     \u001b[0mmodel\u001b[0m\u001b[0;34m.\u001b[0m\u001b[0madd\u001b[0m\u001b[0;34m(\u001b[0m\u001b[0mDense\u001b[0m\u001b[0;34m(\u001b[0m\u001b[0munits\u001b[0m \u001b[0;34m=\u001b[0m \u001b[0;36m1\u001b[0m\u001b[0;34m,\u001b[0m \u001b[0mkernel_initializer\u001b[0m\u001b[0;34m=\u001b[0m\u001b[0minitializer\u001b[0m\u001b[0;34m,\u001b[0m \u001b[0mactivation\u001b[0m\u001b[0;34m=\u001b[0m\u001b[0;34m'relu'\u001b[0m\u001b[0;34m)\u001b[0m\u001b[0;34m)\u001b[0m\u001b[0;34m\u001b[0m\u001b[0;34m\u001b[0m\u001b[0m\n\u001b[1;32m     83\u001b[0m     \u001b[0mmodel\u001b[0m\u001b[0;34m.\u001b[0m\u001b[0mcompile\u001b[0m\u001b[0;34m(\u001b[0m\u001b[0moptimizer\u001b[0m \u001b[0;34m=\u001b[0m \u001b[0;34m'adam'\u001b[0m\u001b[0;34m,\u001b[0m \u001b[0mloss\u001b[0m \u001b[0;34m=\u001b[0m \u001b[0;34m'mean_squared_error'\u001b[0m\u001b[0;34m,\u001b[0m \u001b[0mmetrics\u001b[0m \u001b[0;34m=\u001b[0m \u001b[0;34m[\u001b[0m\u001b[0;34m'mean_absolute_error'\u001b[0m\u001b[0;34m]\u001b[0m\u001b[0;34m)\u001b[0m\u001b[0;34m\u001b[0m\u001b[0;34m\u001b[0m\u001b[0m\n\u001b[0;32m---> 84\u001b[0;31m     \u001b[0mmodel\u001b[0m\u001b[0;34m.\u001b[0m\u001b[0mfit\u001b[0m\u001b[0;34m(\u001b[0m\u001b[0mtrain_generator\u001b[0m\u001b[0;34m,\u001b[0m \u001b[0mepochs\u001b[0m \u001b[0;34m=\u001b[0m \u001b[0;36m120\u001b[0m\u001b[0;34m,\u001b[0m \u001b[0mbatch_size\u001b[0m \u001b[0;34m=\u001b[0m \u001b[0;36m16\u001b[0m\u001b[0;34m,\u001b[0m\u001b[0mverbose\u001b[0m\u001b[0;34m=\u001b[0m\u001b[0;36m1\u001b[0m\u001b[0;34m)\u001b[0m\u001b[0;34m\u001b[0m\u001b[0;34m\u001b[0m\u001b[0m\n\u001b[0m\u001b[1;32m     85\u001b[0m \u001b[0;34m\u001b[0m\u001b[0m\n\u001b[1;32m     86\u001b[0m     \u001b[0;31m# Lets dump the model\u001b[0m\u001b[0;34m\u001b[0m\u001b[0;34m\u001b[0m\u001b[0m\n",
            "\u001b[0;32m/usr/local/lib/python3.10/dist-packages/keras/src/utils/traceback_utils.py\u001b[0m in \u001b[0;36merror_handler\u001b[0;34m(*args, **kwargs)\u001b[0m\n\u001b[1;32m     63\u001b[0m         \u001b[0mfiltered_tb\u001b[0m \u001b[0;34m=\u001b[0m \u001b[0;32mNone\u001b[0m\u001b[0;34m\u001b[0m\u001b[0;34m\u001b[0m\u001b[0m\n\u001b[1;32m     64\u001b[0m         \u001b[0;32mtry\u001b[0m\u001b[0;34m:\u001b[0m\u001b[0;34m\u001b[0m\u001b[0;34m\u001b[0m\u001b[0m\n\u001b[0;32m---> 65\u001b[0;31m             \u001b[0;32mreturn\u001b[0m \u001b[0mfn\u001b[0m\u001b[0;34m(\u001b[0m\u001b[0;34m*\u001b[0m\u001b[0margs\u001b[0m\u001b[0;34m,\u001b[0m \u001b[0;34m**\u001b[0m\u001b[0mkwargs\u001b[0m\u001b[0;34m)\u001b[0m\u001b[0;34m\u001b[0m\u001b[0;34m\u001b[0m\u001b[0m\n\u001b[0m\u001b[1;32m     66\u001b[0m         \u001b[0;32mexcept\u001b[0m \u001b[0mException\u001b[0m \u001b[0;32mas\u001b[0m \u001b[0me\u001b[0m\u001b[0;34m:\u001b[0m\u001b[0;34m\u001b[0m\u001b[0;34m\u001b[0m\u001b[0m\n\u001b[1;32m     67\u001b[0m             \u001b[0mfiltered_tb\u001b[0m \u001b[0;34m=\u001b[0m \u001b[0m_process_traceback_frames\u001b[0m\u001b[0;34m(\u001b[0m\u001b[0me\u001b[0m\u001b[0;34m.\u001b[0m\u001b[0m__traceback__\u001b[0m\u001b[0;34m)\u001b[0m\u001b[0;34m\u001b[0m\u001b[0;34m\u001b[0m\u001b[0m\n",
            "\u001b[0;32m/usr/local/lib/python3.10/dist-packages/keras/src/engine/training.py\u001b[0m in \u001b[0;36mfit\u001b[0;34m(self, x, y, batch_size, epochs, verbose, callbacks, validation_split, validation_data, shuffle, class_weight, sample_weight, initial_epoch, steps_per_epoch, validation_steps, validation_batch_size, validation_freq, max_queue_size, workers, use_multiprocessing)\u001b[0m\n\u001b[1;32m   1805\u001b[0m                         ):\n\u001b[1;32m   1806\u001b[0m                             \u001b[0mcallbacks\u001b[0m\u001b[0;34m.\u001b[0m\u001b[0mon_train_batch_begin\u001b[0m\u001b[0;34m(\u001b[0m\u001b[0mstep\u001b[0m\u001b[0;34m)\u001b[0m\u001b[0;34m\u001b[0m\u001b[0;34m\u001b[0m\u001b[0m\n\u001b[0;32m-> 1807\u001b[0;31m                             \u001b[0mtmp_logs\u001b[0m \u001b[0;34m=\u001b[0m \u001b[0mself\u001b[0m\u001b[0;34m.\u001b[0m\u001b[0mtrain_function\u001b[0m\u001b[0;34m(\u001b[0m\u001b[0miterator\u001b[0m\u001b[0;34m)\u001b[0m\u001b[0;34m\u001b[0m\u001b[0;34m\u001b[0m\u001b[0m\n\u001b[0m\u001b[1;32m   1808\u001b[0m                             \u001b[0;32mif\u001b[0m \u001b[0mdata_handler\u001b[0m\u001b[0;34m.\u001b[0m\u001b[0mshould_sync\u001b[0m\u001b[0;34m:\u001b[0m\u001b[0;34m\u001b[0m\u001b[0;34m\u001b[0m\u001b[0m\n\u001b[1;32m   1809\u001b[0m                                 \u001b[0mcontext\u001b[0m\u001b[0;34m.\u001b[0m\u001b[0masync_wait\u001b[0m\u001b[0;34m(\u001b[0m\u001b[0;34m)\u001b[0m\u001b[0;34m\u001b[0m\u001b[0;34m\u001b[0m\u001b[0m\n",
            "\u001b[0;32m/usr/local/lib/python3.10/dist-packages/tensorflow/python/util/traceback_utils.py\u001b[0m in \u001b[0;36merror_handler\u001b[0;34m(*args, **kwargs)\u001b[0m\n\u001b[1;32m    148\u001b[0m     \u001b[0mfiltered_tb\u001b[0m \u001b[0;34m=\u001b[0m \u001b[0;32mNone\u001b[0m\u001b[0;34m\u001b[0m\u001b[0;34m\u001b[0m\u001b[0m\n\u001b[1;32m    149\u001b[0m     \u001b[0;32mtry\u001b[0m\u001b[0;34m:\u001b[0m\u001b[0;34m\u001b[0m\u001b[0;34m\u001b[0m\u001b[0m\n\u001b[0;32m--> 150\u001b[0;31m       \u001b[0;32mreturn\u001b[0m \u001b[0mfn\u001b[0m\u001b[0;34m(\u001b[0m\u001b[0;34m*\u001b[0m\u001b[0margs\u001b[0m\u001b[0;34m,\u001b[0m \u001b[0;34m**\u001b[0m\u001b[0mkwargs\u001b[0m\u001b[0;34m)\u001b[0m\u001b[0;34m\u001b[0m\u001b[0;34m\u001b[0m\u001b[0m\n\u001b[0m\u001b[1;32m    151\u001b[0m     \u001b[0;32mexcept\u001b[0m \u001b[0mException\u001b[0m \u001b[0;32mas\u001b[0m \u001b[0me\u001b[0m\u001b[0;34m:\u001b[0m\u001b[0;34m\u001b[0m\u001b[0;34m\u001b[0m\u001b[0m\n\u001b[1;32m    152\u001b[0m       \u001b[0mfiltered_tb\u001b[0m \u001b[0;34m=\u001b[0m \u001b[0m_process_traceback_frames\u001b[0m\u001b[0;34m(\u001b[0m\u001b[0me\u001b[0m\u001b[0;34m.\u001b[0m\u001b[0m__traceback__\u001b[0m\u001b[0;34m)\u001b[0m\u001b[0;34m\u001b[0m\u001b[0;34m\u001b[0m\u001b[0m\n",
            "\u001b[0;32m/usr/local/lib/python3.10/dist-packages/tensorflow/python/eager/polymorphic_function/polymorphic_function.py\u001b[0m in \u001b[0;36m__call__\u001b[0;34m(self, *args, **kwds)\u001b[0m\n\u001b[1;32m    830\u001b[0m \u001b[0;34m\u001b[0m\u001b[0m\n\u001b[1;32m    831\u001b[0m       \u001b[0;32mwith\u001b[0m \u001b[0mOptionalXlaContext\u001b[0m\u001b[0;34m(\u001b[0m\u001b[0mself\u001b[0m\u001b[0;34m.\u001b[0m\u001b[0m_jit_compile\u001b[0m\u001b[0;34m)\u001b[0m\u001b[0;34m:\u001b[0m\u001b[0;34m\u001b[0m\u001b[0;34m\u001b[0m\u001b[0m\n\u001b[0;32m--> 832\u001b[0;31m         \u001b[0mresult\u001b[0m \u001b[0;34m=\u001b[0m \u001b[0mself\u001b[0m\u001b[0;34m.\u001b[0m\u001b[0m_call\u001b[0m\u001b[0;34m(\u001b[0m\u001b[0;34m*\u001b[0m\u001b[0margs\u001b[0m\u001b[0;34m,\u001b[0m \u001b[0;34m**\u001b[0m\u001b[0mkwds\u001b[0m\u001b[0;34m)\u001b[0m\u001b[0;34m\u001b[0m\u001b[0;34m\u001b[0m\u001b[0m\n\u001b[0m\u001b[1;32m    833\u001b[0m \u001b[0;34m\u001b[0m\u001b[0m\n\u001b[1;32m    834\u001b[0m       \u001b[0mnew_tracing_count\u001b[0m \u001b[0;34m=\u001b[0m \u001b[0mself\u001b[0m\u001b[0;34m.\u001b[0m\u001b[0mexperimental_get_tracing_count\u001b[0m\u001b[0;34m(\u001b[0m\u001b[0;34m)\u001b[0m\u001b[0;34m\u001b[0m\u001b[0;34m\u001b[0m\u001b[0m\n",
            "\u001b[0;32m/usr/local/lib/python3.10/dist-packages/tensorflow/python/eager/polymorphic_function/polymorphic_function.py\u001b[0m in \u001b[0;36m_call\u001b[0;34m(self, *args, **kwds)\u001b[0m\n\u001b[1;32m    866\u001b[0m       \u001b[0;31m# In this case we have created variables on the first call, so we run the\u001b[0m\u001b[0;34m\u001b[0m\u001b[0;34m\u001b[0m\u001b[0m\n\u001b[1;32m    867\u001b[0m       \u001b[0;31m# defunned version which is guaranteed to never create variables.\u001b[0m\u001b[0;34m\u001b[0m\u001b[0;34m\u001b[0m\u001b[0m\n\u001b[0;32m--> 868\u001b[0;31m       return tracing_compilation.call_function(\n\u001b[0m\u001b[1;32m    869\u001b[0m           \u001b[0margs\u001b[0m\u001b[0;34m,\u001b[0m \u001b[0mkwds\u001b[0m\u001b[0;34m,\u001b[0m \u001b[0mself\u001b[0m\u001b[0;34m.\u001b[0m\u001b[0m_no_variable_creation_config\u001b[0m\u001b[0;34m\u001b[0m\u001b[0;34m\u001b[0m\u001b[0m\n\u001b[1;32m    870\u001b[0m       )\n",
            "\u001b[0;32m/usr/local/lib/python3.10/dist-packages/tensorflow/python/eager/polymorphic_function/tracing_compilation.py\u001b[0m in \u001b[0;36mcall_function\u001b[0;34m(args, kwargs, tracing_options)\u001b[0m\n\u001b[1;32m    137\u001b[0m   \u001b[0mbound_args\u001b[0m \u001b[0;34m=\u001b[0m \u001b[0mfunction\u001b[0m\u001b[0;34m.\u001b[0m\u001b[0mfunction_type\u001b[0m\u001b[0;34m.\u001b[0m\u001b[0mbind\u001b[0m\u001b[0;34m(\u001b[0m\u001b[0;34m*\u001b[0m\u001b[0margs\u001b[0m\u001b[0;34m,\u001b[0m \u001b[0;34m**\u001b[0m\u001b[0mkwargs\u001b[0m\u001b[0;34m)\u001b[0m\u001b[0;34m\u001b[0m\u001b[0;34m\u001b[0m\u001b[0m\n\u001b[1;32m    138\u001b[0m   \u001b[0mflat_inputs\u001b[0m \u001b[0;34m=\u001b[0m \u001b[0mfunction\u001b[0m\u001b[0;34m.\u001b[0m\u001b[0mfunction_type\u001b[0m\u001b[0;34m.\u001b[0m\u001b[0munpack_inputs\u001b[0m\u001b[0;34m(\u001b[0m\u001b[0mbound_args\u001b[0m\u001b[0;34m)\u001b[0m\u001b[0;34m\u001b[0m\u001b[0;34m\u001b[0m\u001b[0m\n\u001b[0;32m--> 139\u001b[0;31m   return function._call_flat(  # pylint: disable=protected-access\n\u001b[0m\u001b[1;32m    140\u001b[0m       \u001b[0mflat_inputs\u001b[0m\u001b[0;34m,\u001b[0m \u001b[0mcaptured_inputs\u001b[0m\u001b[0;34m=\u001b[0m\u001b[0mfunction\u001b[0m\u001b[0;34m.\u001b[0m\u001b[0mcaptured_inputs\u001b[0m\u001b[0;34m\u001b[0m\u001b[0;34m\u001b[0m\u001b[0m\n\u001b[1;32m    141\u001b[0m   )\n",
            "\u001b[0;32m/usr/local/lib/python3.10/dist-packages/tensorflow/python/eager/polymorphic_function/concrete_function.py\u001b[0m in \u001b[0;36m_call_flat\u001b[0;34m(self, tensor_inputs, captured_inputs)\u001b[0m\n\u001b[1;32m   1321\u001b[0m         and executing_eagerly):\n\u001b[1;32m   1322\u001b[0m       \u001b[0;31m# No tape is watching; skip to running the function.\u001b[0m\u001b[0;34m\u001b[0m\u001b[0;34m\u001b[0m\u001b[0m\n\u001b[0;32m-> 1323\u001b[0;31m       \u001b[0;32mreturn\u001b[0m \u001b[0mself\u001b[0m\u001b[0;34m.\u001b[0m\u001b[0m_inference_function\u001b[0m\u001b[0;34m.\u001b[0m\u001b[0mcall_preflattened\u001b[0m\u001b[0;34m(\u001b[0m\u001b[0margs\u001b[0m\u001b[0;34m)\u001b[0m\u001b[0;34m\u001b[0m\u001b[0;34m\u001b[0m\u001b[0m\n\u001b[0m\u001b[1;32m   1324\u001b[0m     forward_backward = self._select_forward_and_backward_functions(\n\u001b[1;32m   1325\u001b[0m         \u001b[0margs\u001b[0m\u001b[0;34m,\u001b[0m\u001b[0;34m\u001b[0m\u001b[0;34m\u001b[0m\u001b[0m\n",
            "\u001b[0;32m/usr/local/lib/python3.10/dist-packages/tensorflow/python/eager/polymorphic_function/atomic_function.py\u001b[0m in \u001b[0;36mcall_preflattened\u001b[0;34m(self, args)\u001b[0m\n\u001b[1;32m    214\u001b[0m   \u001b[0;32mdef\u001b[0m \u001b[0mcall_preflattened\u001b[0m\u001b[0;34m(\u001b[0m\u001b[0mself\u001b[0m\u001b[0;34m,\u001b[0m \u001b[0margs\u001b[0m\u001b[0;34m:\u001b[0m \u001b[0mSequence\u001b[0m\u001b[0;34m[\u001b[0m\u001b[0mcore\u001b[0m\u001b[0;34m.\u001b[0m\u001b[0mTensor\u001b[0m\u001b[0;34m]\u001b[0m\u001b[0;34m)\u001b[0m \u001b[0;34m->\u001b[0m \u001b[0mAny\u001b[0m\u001b[0;34m:\u001b[0m\u001b[0;34m\u001b[0m\u001b[0;34m\u001b[0m\u001b[0m\n\u001b[1;32m    215\u001b[0m     \u001b[0;34m\"\"\"Calls with flattened tensor inputs and returns the structured output.\"\"\"\u001b[0m\u001b[0;34m\u001b[0m\u001b[0;34m\u001b[0m\u001b[0m\n\u001b[0;32m--> 216\u001b[0;31m     \u001b[0mflat_outputs\u001b[0m \u001b[0;34m=\u001b[0m \u001b[0mself\u001b[0m\u001b[0;34m.\u001b[0m\u001b[0mcall_flat\u001b[0m\u001b[0;34m(\u001b[0m\u001b[0;34m*\u001b[0m\u001b[0margs\u001b[0m\u001b[0;34m)\u001b[0m\u001b[0;34m\u001b[0m\u001b[0;34m\u001b[0m\u001b[0m\n\u001b[0m\u001b[1;32m    217\u001b[0m     \u001b[0;32mreturn\u001b[0m \u001b[0mself\u001b[0m\u001b[0;34m.\u001b[0m\u001b[0mfunction_type\u001b[0m\u001b[0;34m.\u001b[0m\u001b[0mpack_output\u001b[0m\u001b[0;34m(\u001b[0m\u001b[0mflat_outputs\u001b[0m\u001b[0;34m)\u001b[0m\u001b[0;34m\u001b[0m\u001b[0;34m\u001b[0m\u001b[0m\n\u001b[1;32m    218\u001b[0m \u001b[0;34m\u001b[0m\u001b[0m\n",
            "\u001b[0;32m/usr/local/lib/python3.10/dist-packages/tensorflow/python/eager/polymorphic_function/atomic_function.py\u001b[0m in \u001b[0;36mcall_flat\u001b[0;34m(self, *args)\u001b[0m\n\u001b[1;32m    249\u001b[0m         \u001b[0;32mwith\u001b[0m \u001b[0mrecord\u001b[0m\u001b[0;34m.\u001b[0m\u001b[0mstop_recording\u001b[0m\u001b[0;34m(\u001b[0m\u001b[0;34m)\u001b[0m\u001b[0;34m:\u001b[0m\u001b[0;34m\u001b[0m\u001b[0;34m\u001b[0m\u001b[0m\n\u001b[1;32m    250\u001b[0m           \u001b[0;32mif\u001b[0m \u001b[0mself\u001b[0m\u001b[0;34m.\u001b[0m\u001b[0m_bound_context\u001b[0m\u001b[0;34m.\u001b[0m\u001b[0mexecuting_eagerly\u001b[0m\u001b[0;34m(\u001b[0m\u001b[0;34m)\u001b[0m\u001b[0;34m:\u001b[0m\u001b[0;34m\u001b[0m\u001b[0;34m\u001b[0m\u001b[0m\n\u001b[0;32m--> 251\u001b[0;31m             outputs = self._bound_context.call_function(\n\u001b[0m\u001b[1;32m    252\u001b[0m                 \u001b[0mself\u001b[0m\u001b[0;34m.\u001b[0m\u001b[0mname\u001b[0m\u001b[0;34m,\u001b[0m\u001b[0;34m\u001b[0m\u001b[0;34m\u001b[0m\u001b[0m\n\u001b[1;32m    253\u001b[0m                 \u001b[0mlist\u001b[0m\u001b[0;34m(\u001b[0m\u001b[0margs\u001b[0m\u001b[0;34m)\u001b[0m\u001b[0;34m,\u001b[0m\u001b[0;34m\u001b[0m\u001b[0;34m\u001b[0m\u001b[0m\n",
            "\u001b[0;32m/usr/local/lib/python3.10/dist-packages/tensorflow/python/eager/context.py\u001b[0m in \u001b[0;36mcall_function\u001b[0;34m(self, name, tensor_inputs, num_outputs)\u001b[0m\n\u001b[1;32m   1484\u001b[0m     \u001b[0mcancellation_context\u001b[0m \u001b[0;34m=\u001b[0m \u001b[0mcancellation\u001b[0m\u001b[0;34m.\u001b[0m\u001b[0mcontext\u001b[0m\u001b[0;34m(\u001b[0m\u001b[0;34m)\u001b[0m\u001b[0;34m\u001b[0m\u001b[0;34m\u001b[0m\u001b[0m\n\u001b[1;32m   1485\u001b[0m     \u001b[0;32mif\u001b[0m \u001b[0mcancellation_context\u001b[0m \u001b[0;32mis\u001b[0m \u001b[0;32mNone\u001b[0m\u001b[0;34m:\u001b[0m\u001b[0;34m\u001b[0m\u001b[0;34m\u001b[0m\u001b[0m\n\u001b[0;32m-> 1486\u001b[0;31m       outputs = execute.execute(\n\u001b[0m\u001b[1;32m   1487\u001b[0m           \u001b[0mname\u001b[0m\u001b[0;34m.\u001b[0m\u001b[0mdecode\u001b[0m\u001b[0;34m(\u001b[0m\u001b[0;34m\"utf-8\"\u001b[0m\u001b[0;34m)\u001b[0m\u001b[0;34m,\u001b[0m\u001b[0;34m\u001b[0m\u001b[0;34m\u001b[0m\u001b[0m\n\u001b[1;32m   1488\u001b[0m           \u001b[0mnum_outputs\u001b[0m\u001b[0;34m=\u001b[0m\u001b[0mnum_outputs\u001b[0m\u001b[0;34m,\u001b[0m\u001b[0;34m\u001b[0m\u001b[0;34m\u001b[0m\u001b[0m\n",
            "\u001b[0;32m/usr/local/lib/python3.10/dist-packages/tensorflow/python/eager/execute.py\u001b[0m in \u001b[0;36mquick_execute\u001b[0;34m(op_name, num_outputs, inputs, attrs, ctx, name)\u001b[0m\n\u001b[1;32m     51\u001b[0m   \u001b[0;32mtry\u001b[0m\u001b[0;34m:\u001b[0m\u001b[0;34m\u001b[0m\u001b[0;34m\u001b[0m\u001b[0m\n\u001b[1;32m     52\u001b[0m     \u001b[0mctx\u001b[0m\u001b[0;34m.\u001b[0m\u001b[0mensure_initialized\u001b[0m\u001b[0;34m(\u001b[0m\u001b[0;34m)\u001b[0m\u001b[0;34m\u001b[0m\u001b[0;34m\u001b[0m\u001b[0m\n\u001b[0;32m---> 53\u001b[0;31m     tensors = pywrap_tfe.TFE_Py_Execute(ctx._handle, device_name, op_name,\n\u001b[0m\u001b[1;32m     54\u001b[0m                                         inputs, attrs, num_outputs)\n\u001b[1;32m     55\u001b[0m   \u001b[0;32mexcept\u001b[0m \u001b[0mcore\u001b[0m\u001b[0;34m.\u001b[0m\u001b[0m_NotOkStatusException\u001b[0m \u001b[0;32mas\u001b[0m \u001b[0me\u001b[0m\u001b[0;34m:\u001b[0m\u001b[0;34m\u001b[0m\u001b[0;34m\u001b[0m\u001b[0m\n",
            "\u001b[0;31mKeyboardInterrupt\u001b[0m: "
          ]
        }
      ]
    }
  ],
  "metadata": {
    "colab": {
      "provenance": []
    },
    "kernelspec": {
      "display_name": "Python 3",
      "name": "python3"
    },
    "language_info": {
      "name": "python"
    }
  },
  "nbformat": 4,
  "nbformat_minor": 0
}